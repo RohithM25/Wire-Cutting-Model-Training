{
 "cells": [
  {
   "cell_type": "code",
   "execution_count": 5,
   "metadata": {},
   "outputs": [],
   "source": [
    "from regression import add_neighborhood_feature, avg_loss, SGD, sigmoid\n",
    "import numpy as np\n",
    "import matplotlib.pyplot as plt\n",
    "import random\n",
    "from matplotlib.colors import ListedColormap, BoundaryNorm\n",
    "\n",
    "#https://www.pinecone.io/learn/cross-entropy-loss/\n",
    "#https://www.parasdahal.com/softmax-crossentropy"
   ]
  },
  {
   "cell_type": "code",
   "execution_count": 6,
   "metadata": {},
   "outputs": [
    {
     "name": "stdout",
     "output_type": "stream",
     "text": [
      "[[0. 0. 2. ... 0. 0. 0.]\n",
      " [0. 0. 0. ... 0. 0. 0.]\n",
      " [0. 0. 0. ... 0. 0. 3.]\n",
      " ...\n",
      " [0. 0. 0. ... 0. 0. 0.]\n",
      " [0. 0. 0. ... 0. 3. 0.]\n",
      " [0. 0. 0. ... 0. 0. 0.]]\n",
      "[[1 4]\n",
      " [1 3]\n",
      " [1 1]\n",
      " ...\n",
      " [1 1]\n",
      " [1 4]\n",
      " [1 4]]\n"
     ]
    }
   ],
   "source": [
    "training_data = np.load('1k_data/data.npy')\n",
    "training_labels = np.load('1k_data/labels.npy')\n",
    "data = datatesting_data = np.load('Task2_Trainset1000/data.npy')\n",
    "labels = testing_labels = np.load('Task2_Trainset1000/labels.npy')\n",
    "# data = np.load('1k_data/data.npy')\n",
    "# labels = np.load('1k_data/labels.npy')\n",
    "# wrong data rn\n",
    "print(data)\n",
    "print(labels)"
   ]
  },
  {
   "cell_type": "code",
   "execution_count": 7,
   "metadata": {},
   "outputs": [
    {
     "ename": "NameError",
     "evalue": "name 'accuracy' is not defined",
     "output_type": "error",
     "traceback": [
      "\u001b[1;31m---------------------------------------------------------------------------\u001b[0m",
      "\u001b[1;31mNameError\u001b[0m                                 Traceback (most recent call last)",
      "Cell \u001b[1;32mIn[3], line 35\u001b[0m\n\u001b[0;32m     31\u001b[0m     \u001b[38;5;28;01mreturn\u001b[39;00m (loss_coords, accuracy_coords)\n\u001b[0;32m     33\u001b[0m \u001b[38;5;66;03m# data = add_neighborhood_feature(training_data)\u001b[39;00m\n\u001b[0;32m     34\u001b[0m \u001b[38;5;66;03m# data = add_polynomial_features(data, degree=4)\u001b[39;00m\n\u001b[1;32m---> 35\u001b[0m loss_coords, accuracy_coords \u001b[38;5;241m=\u001b[39m \u001b[43mfeed_forward_multiclass\u001b[49m\u001b[43m(\u001b[49m\u001b[43mdata\u001b[49m\u001b[43m,\u001b[49m\u001b[43m \u001b[49m\u001b[43mlabels\u001b[49m\u001b[43m)\u001b[49m\n",
      "Cell \u001b[1;32mIn[3], line 28\u001b[0m, in \u001b[0;36mfeed_forward_multiclass\u001b[1;34m(data, labels, num_iters)\u001b[0m\n\u001b[0;32m     26\u001b[0m     loss \u001b[38;5;241m=\u001b[39m SGD(w, x, y, alpha\u001b[38;5;241m=\u001b[39m\u001b[38;5;241m0.01\u001b[39m)\n\u001b[0;32m     27\u001b[0m     loss_coords\u001b[38;5;241m.\u001b[39mappend(avg_loss(data,w,labels))\n\u001b[1;32m---> 28\u001b[0m     accuracy_coords\u001b[38;5;241m.\u001b[39mappend(\u001b[43maccuracy\u001b[49m(data,labels,w))\n\u001b[0;32m     30\u001b[0m \u001b[38;5;28mprint\u001b[39m(\u001b[38;5;124mf\u001b[39m\u001b[38;5;124m'\u001b[39m\u001b[38;5;124mAverage Loss: \u001b[39m\u001b[38;5;132;01m{\u001b[39;00mavg_loss(data,w,labels)\u001b[38;5;132;01m}\u001b[39;00m\u001b[38;5;124m, Accuracy on testing set: \u001b[39m\u001b[38;5;132;01m{\u001b[39;00maccuracy(data,\u001b[38;5;250m \u001b[39mlabels,\u001b[38;5;250m \u001b[39mw)\u001b[38;5;132;01m}\u001b[39;00m\u001b[38;5;124m'\u001b[39m)\n\u001b[0;32m     31\u001b[0m \u001b[38;5;28;01mreturn\u001b[39;00m (loss_coords, accuracy_coords)\n",
      "\u001b[1;31mNameError\u001b[0m: name 'accuracy' is not defined"
     ]
    }
   ],
   "source": [
    "def SGD2(w,x,y,alpha):\n",
    "    y_prime = softmax(x)\n",
    "    cur_loss = categorical_cross_entropy(y, y_prime) # + (1e-10 * np.sum(np.abs(w))) # l2 reg can be changed for the model)\n",
    "    w -= alpha * (y_prime - y)\n",
    "    return cur_loss\n",
    "\n",
    "def softmax(x):\n",
    "    exp_x = np.exp(x - np.max(x))  # Subtracting np.max(x) for numerical stability\n",
    "    return exp_x / exp_x.sum(axis=0, keepdims=True)\n",
    "\n",
    "def categorical_cross_entropy(y_actual, y_prime):\n",
    "    epsilon = 1e-15  # Small constant to avoid taking the logarithm of zero\n",
    "    y_prime = np.clip(y_prime, epsilon, 1 - epsilon)  # Clip to avoid numerical instability\n",
    "    return -np.mean(np.sum(y_actual * np.log(y_prime), axis=1))\n",
    "\n",
    "def accuracy(data, labels, weights):\n",
    "    # print(data.shape)\n",
    "    outs = sigmoid(np.dot(data, weights))\n",
    "    binary = np.array((outs >= 0.5).astype(int))\n",
    "    samples = data.shape[0]\n",
    "    correct = np.sum(np.equal(binary,labels[:,0]))\n",
    "    return correct/samples\n",
    "\n",
    "def feed_forward_multiclass(data, labels, num_iters=1000):\n",
    "    bias = np.ones((data.shape[0], 1))\n",
    "    data = np.concatenate((data, bias), axis=1)\n",
    "    samples,features = data.shape\n",
    "    w = np.random.rand(features)*2 - np.ones(shape=features) #[0,1] -> [-100,100]\n",
    "    loss_coords, accuracy_coords = [], []\n",
    "    for i in range(num_iters):\n",
    "        index = np.random.randint(0, 1000)\n",
    "        x = data[index]\n",
    "        y = labels[index][1]\n",
    "        loss = SGD(w, x, y, alpha=0.01)\n",
    "        loss_coords.append(avg_loss(data,w,labels))\n",
    "        accuracy_coords.append(accuracy(data,labels,w))\n",
    "          \n",
    "    print(f'Average Loss: {avg_loss(data,w,labels)}, Accuracy on testing set: {accuracy(data, labels, w)}')\n",
    "    return (loss_coords, accuracy_coords)\n",
    "\n",
    "# data = add_neighborhood_feature(training_data)\n",
    "# data = add_polynomial_features(data, degree=4)\n",
    "loss_coords, accuracy_coords = feed_forward_multiclass(data, labels)"
   ]
  },
  {
   "cell_type": "code",
   "execution_count": 8,
   "metadata": {},
   "outputs": [],
   "source": [
    "def add_polynomial_features(X, degree):\n",
    "    \"\"\"Add polynomial features to the input data.\"\"\"\n",
    "    features = [X]\n",
    "    for d in range(2, degree + 1):\n",
    "        features.append(X**d)\n",
    "    return np.concatenate(features, axis=1)\n",
    "\n",
    "def feed_forward(data,labels, num_iters = 10000):\n",
    "    # Adding in a bias term\n",
    "    bias = np.ones((data.shape[0], 1))\n",
    "    data = np.concatenate((data, bias), axis=1)\n",
    "    # print(data.shape)\n",
    "    samples,features = data.shape\n",
    "    loss_coords, accuracy_coords = [], []\n",
    "    w = np.random.rand(features)*2 - np.ones(shape=features) #[0,1] -> [-1,1]\n",
    "    for i in range(num_iters):\n",
    "        index = np.random.randint(0, 1000)\n",
    "        x = data[index]\n",
    "        y = labels[index][0]\n",
    "        loss = SGD(w, x, y, alpha=0.01)\n",
    "        if i % 100 == 0:\n",
    "            loss_coords.append(avg_loss(data,w,labels))\n",
    "            accuracy_coords.append(accuracy(data,labels,w))\n",
    "        \n",
    "    print(f'Average Loss: {avg_loss(data,w,labels)}, Accuracy on testing set: {accuracy(data, labels, w)}')\n",
    "    return (loss_coords, accuracy_coords)"
   ]
  }
 ],
 "metadata": {
  "kernelspec": {
   "display_name": "base",
   "language": "python",
   "name": "python3"
  },
  "language_info": {
   "codemirror_mode": {
    "name": "ipython",
    "version": 3
   },
   "file_extension": ".py",
   "mimetype": "text/x-python",
   "name": "python",
   "nbconvert_exporter": "python",
   "pygments_lexer": "ipython3",
   "version": "3.10.13"
  }
 },
 "nbformat": 4,
 "nbformat_minor": 2
}
