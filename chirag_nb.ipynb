{
 "cells": [
  {
   "cell_type": "code",
   "execution_count": 23,
   "metadata": {},
   "outputs": [],
   "source": [
    "from regression import add_neighborhood_feature, avg_loss, SGD, sigmoid\n",
    "import numpy as np\n",
    "import matplotlib.pyplot as plt\n",
    "import random\n",
    "from matplotlib.colors import ListedColormap, BoundaryNorm"
   ]
  },
  {
   "cell_type": "code",
   "execution_count": 24,
   "metadata": {},
   "outputs": [],
   "source": [
    "training_data = np.load('1k_data/data.npy')\n",
    "training_labels = np.load('1k_data/labels.npy')\n",
    "datatesting_data = np.load('Task1_Testset500/data.npy')\n",
    "testing_labels = np.load('Task1_Testset500/labels.npy')\n",
    "data = np.load('1k_data/data.npy')\n",
    "labels = np.load('1k_data/labels.npy')\n",
    "# wrong data rn"
   ]
  },
  {
   "cell_type": "code",
   "execution_count": 25,
   "metadata": {},
   "outputs": [
    {
     "name": "stdout",
     "output_type": "stream",
     "text": [
      "Average Loss: -1.1102230246251563e-15, Accuracy on testing set: 1.0\n"
     ]
    }
   ],
   "source": [
    "def SGD2(w,x,y,alpha):\n",
    "    y_prime = softmax(x)\n",
    "    cur_loss = categorical_cross_entropy(y, y_prime) + (1e-10 * np.sum(np.abs(w))) # l2 reg can be changed for the model)\n",
    "    w -= alpha * (y_prime - y)\n",
    "\n",
    "def softmax(x):\n",
    "    exp_x = np.exp(x - np.max(x))  # Subtracting np.max(x) for numerical stability\n",
    "    return exp_x / exp_x.sum(axis=0, keepdims=True)\n",
    "\n",
    "def categorical_cross_entropy(y_actual, y_prime):\n",
    "    epsilon = 1e-15  # Small constant to avoid taking the logarithm of zero\n",
    "    y_prime = np.clip(y_prime, epsilon, 1 - epsilon)  # Clip to avoid numerical instability\n",
    "    return -np.mean(np.sum(y_actual * np.log(y_prime), axis=1))\n",
    "\n",
    "def feed_forward_multiclass(data, labels, num_iters=1000):\n",
    "    data = np.column_stack([data, np.ones(data.shape[0])]) # Adding in a bias term\n",
    "    samples,features = data.shape\n",
    "    w = np.random.rand(features)*2 - np.ones(shape=features) #[0,1] -> [-100,100]\n",
    "    loss_coords, accuracy_coords = [], []\n",
    "    for i in range(num_iters):\n",
    "        index = np.random.randint(0, 1000)\n",
    "        x = data[index]\n",
    "        y = labels[index][0]\n",
    "        loss = SGD(w, x, y, alpha=0.01)\n",
    "        loss_coords.append(avg_loss(data,w,labels))\n",
    "        accuracy_coords.append(accuracy(data,labels,w))\n",
    "          \n",
    "    print(f'Average Loss: {avg_loss(data,w,labels)}, Accuracy on testing set: {accuracy(data, labels, w)}')\n",
    "    return (loss_coords, accuracy_coords)\n",
    "\n",
    "data = add_neighborhood_feature(training_data)\n",
    "data = add_polynomial_features(data, degree=4)\n",
    "loss_coords, accuracy_coords = feed_forward_multiclass(data, labels)\n"
   ]
  },
  {
   "cell_type": "code",
   "execution_count": 26,
   "metadata": {},
   "outputs": [],
   "source": [
    "def add_polynomial_features(X, degree):\n",
    "    \"\"\"Add polynomial features to the input data.\"\"\"\n",
    "    features = [X]\n",
    "    for d in range(2, degree + 1):\n",
    "        features.append(X**d)\n",
    "    return np.concatenate(features, axis=1)\n",
    "\n",
    "def feed_forward(data,labels, num_iters = 10000):\n",
    "    # Adding in a bias term\n",
    "    bias = np.ones((data.shape[0], 1))\n",
    "    data = np.concatenate((data, bias), axis=1)\n",
    "    # print(data.shape)\n",
    "    samples,features = data.shape\n",
    "    loss_coords, accuracy_coords = [], []\n",
    "    w = np.random.rand(features)*2 - np.ones(shape=features) #[0,1] -> [-1,1]\n",
    "    for i in range(num_iters):\n",
    "        index = np.random.randint(0, 1000)\n",
    "        x = data[index]\n",
    "        y = labels[index][0]\n",
    "        loss = SGD(w, x, y, alpha=0.01)\n",
    "        if i % 100 == 0:\n",
    "            loss_coords.append(avg_loss(data,w,labels))\n",
    "            accuracy_coords.append(accuracy(data,labels,w))\n",
    "        \n",
    "    print(f'Average Loss: {avg_loss(data,w,labels)}, Accuracy on testing set: {accuracy(data, labels, w)}')\n",
    "    return (loss_coords, accuracy_coords)\n",
    "\n",
    "def accuracy(data, labels, weights):\n",
    "    # print(data.shape)\n",
    "    outs = sigmoid(np.dot(data, weights))\n",
    "    binary = np.array((outs >= 0.5).astype(int))\n",
    "    samples = data.shape[0]\n",
    "    correct = np.sum(np.equal(binary,labels[:,0]))\n",
    "    return correct/samples"
   ]
  },
  {
   "cell_type": "code",
   "execution_count": null,
   "metadata": {},
   "outputs": [],
   "source": []
  }
 ],
 "metadata": {
  "kernelspec": {
   "display_name": "base",
   "language": "python",
   "name": "python3"
  },
  "language_info": {
   "codemirror_mode": {
    "name": "ipython",
    "version": 3
   },
   "file_extension": ".py",
   "mimetype": "text/x-python",
   "name": "python",
   "nbconvert_exporter": "python",
   "pygments_lexer": "ipython3",
   "version": "3.11.4"
  }
 },
 "nbformat": 4,
 "nbformat_minor": 2
}
