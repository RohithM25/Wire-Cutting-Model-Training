{
 "cells": [
  {
   "cell_type": "code",
   "execution_count": 17,
   "metadata": {},
   "outputs": [],
   "source": [
    "from regression import add_neighborhood_feature, avg_loss, SGD, sigmoid\n",
    "import numpy as np\n",
    "import matplotlib.pyplot as plt\n",
    "import random\n",
    "from matplotlib.colors import ListedColormap, BoundaryNorm"
   ]
  },
  {
   "cell_type": "code",
   "execution_count": 18,
   "metadata": {},
   "outputs": [],
   "source": [
    "\"\"\"Load in data: \n",
    "    Input Space: (1200, 1) one hot encoded data \"\"\"\n",
    "\n",
    "x = np.random.rand(1200)*2 - np.ones(shape=1200)\n",
    "w1 = np.random.rand(1200)*2 - np.ones(shape=1200)\n",
    "w2 = np.random.rand(1200)*2 - np.ones(shape=1200)\n",
    "w3 = np.random.rand(1200)*2 - np.ones(shape=1200)\n",
    "w4 = np.random.rand(1200)*2 - np.ones(shape=1200)\n",
    "weights = np.vstack((w1,w2,w3,w4))\n"
   ]
  },
  {
   "cell_type": "code",
   "execution_count": 19,
   "metadata": {},
   "outputs": [
    {
     "name": "stdout",
     "output_type": "stream",
     "text": [
      "Probabilities: [5.24154067e-02 7.90445105e-10 9.47584592e-01 6.72513492e-16]\n",
      "Sum of probabilities: 1.0\n"
     ]
    }
   ],
   "source": [
    "\"\"\"Multi-Class Classification Model \n",
    "    SoftMax --> computes probabilites for each class totals to 1\n",
    "    Loss Function --> categorical cross entropy --> for all classes -log(softmax(y'))\n",
    "    Deriviate of Loss --> y' - y_actual\"\"\"\n",
    "\n",
    "def softmax(output_x=list): # output x takes 4 diff values for each weight layer\n",
    "    exp_output = np.exp(output_x - np.max(output_x))\n",
    "    probs = exp_output / np.sum(exp_output, axis=-1, keepdims=True)\n",
    "    return probs\n",
    "\n",
    "\"\"\"logits = []\n",
    "for w in weights:\n",
    "    logits.append(np.dot(w, x))\n",
    "probs = softmax(logits)\n",
    "\"\"\"\n",
    "\n",
    "\n"
   ]
  }
 ],
 "metadata": {
  "kernelspec": {
   "display_name": "base",
   "language": "python",
   "name": "python3"
  },
  "language_info": {
   "codemirror_mode": {
    "name": "ipython",
    "version": 3
   },
   "file_extension": ".py",
   "mimetype": "text/x-python",
   "name": "python",
   "nbconvert_exporter": "python",
   "pygments_lexer": "ipython3",
   "version": "3.11.4"
  }
 },
 "nbformat": 4,
 "nbformat_minor": 2
}
