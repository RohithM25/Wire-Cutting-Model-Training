{
 "cells": [
  {
   "cell_type": "code",
   "execution_count": 217,
   "metadata": {},
   "outputs": [],
   "source": [
    "from regression import add_neighborhood_feature, avg_loss, SGD, sigmoid\n",
    "import numpy as np\n",
    "import matplotlib.pyplot as plt\n",
    "import random\n",
    "#import diagram\n",
    "from matplotlib.colors import ListedColormap, BoundaryNorm"
   ]
  },
  {
   "cell_type": "code",
   "execution_count": 218,
   "metadata": {},
   "outputs": [],
   "source": [
    "# class diagram:\n",
    "#     def __init__(self, data):\n",
    "#         self.data = data #this will be a 20x20 matrix\n",
    "\n",
    "#     @classmethod\n",
    "#     def createDiagram(cls):\n",
    "#         dgrm = cls(np.zeros((20,20), dtype=float))\n",
    "#         return dgrm\n",
    "    \n",
    "#     def layWires(self):\n",
    "#         possibleRows = [i for i in range(self.data.shape[0])] \n",
    "#         possibleColumns = [i for i in range(self.data.shape[1])]\n",
    "\n",
    "#         colors = [1,2,3,4] #1 is red, 2 is blue, 3 is yellow, 4 is green\n",
    "#         layRowFirst = random.randrange(2) #0 indicates false, 1 indicates true\n",
    "#         dangerous = 0 #boolean to keep track of whether the diagram is dangerous. #0 means not dangerous, 1 meeans it is dangerous\n",
    "#         thirdWireLaid = 0 #this will hold the color of the 3rd wire laid down\n",
    "#         for i in range(4):\n",
    "#             color = colors.pop(random.randrange(len(colors)))\n",
    "            \n",
    "#             #if the wire to be laid is yellow and the red wire is already laid, mark diagram as dangerous\n",
    "#             if color == 3 and (1 not in colors): dangerous = 1\n",
    "            \n",
    "#             if i==2: thirdWireLaid = color\n",
    "#             if i%2 == 0:\n",
    "#                 if layRowFirst == 1:\n",
    "#                     row = possibleRows.pop(random.randrange(len(possibleRows)))\n",
    "#                     for j in range(self.data.shape[0]): self.data[row][j] = color\n",
    "#                 else:\n",
    "#                     col = possibleColumns.pop(random.randrange(len(possibleColumns)))\n",
    "#                     for j in range(self.data.shape[1]): self.data[j][col] = color\n",
    "#             else:\n",
    "#                 if layRowFirst == 1:\n",
    "#                     col = possibleColumns.pop(random.randrange(len(possibleColumns)))\n",
    "#                     for j in range(self.data.shape[1]): self.data[j][col] = color\n",
    "#                 else:\n",
    "#                     row = possibleRows.pop(random.randrange(len(possibleRows)))\n",
    "#                     for j in range(self.data.shape[0]): self.data[row][j] = color\n",
    "        \n",
    "#         return (dangerous,0) if dangerous == 0 else (dangerous,thirdWireLaid)"
   ]
  },
  {
   "cell_type": "code",
   "execution_count": 219,
   "metadata": {},
   "outputs": [],
   "source": [
    "# #code to generate data\n",
    "# def makeTask1Sets(N, dest):\n",
    "#     matrices = []\n",
    "#     labels = []\n",
    "#     for _ in range(int(N)):\n",
    "#         dgrm = diagram.createDiagram()\n",
    "#         danger = np.array(dgrm.layWires())\n",
    "#         matrices.append(dgrm.data.flatten())\n",
    "#         labels.append(danger)\n",
    "#     matrices = np.array(matrices)\n",
    "#     labels = np.array(labels)\n",
    "\n",
    "#     # In case the necessary directory hasn't been made yet\n",
    "#     #os.makedirs(dest, exist_ok=True)\n",
    "#     np.save(arr=matrices,file=f'{dest}/data.npy',allow_pickle=True)\n",
    "#     np.save(arr=labels,file=f'{dest}/labels.npy',allow_pickle=True)\n",
    "\n",
    "# def makeTask2Sets(N, dest):\n",
    "#     matrices = []\n",
    "#     labels = []\n",
    "\n",
    "#     count=0\n",
    "#     while(count<int(N)):\n",
    "#         dgrm = diagram.createDiagram()\n",
    "#         wireToCut = np.array((dgrm.layWires())[1])\n",
    "#         #print(f\"my wire to cut: {wireToCut}\")\n",
    "#         if not np.array_equal(wireToCut,(0,0,0,0,1)):\n",
    "#             matrices.append(dgrm.data.flatten())\n",
    "#             labels.append(wireToCut)\n",
    "#             count+=1\n",
    "\n",
    "#     matrices = np.array(matrices)\n",
    "#     labels = np.array(labels)\n",
    "\n",
    "#     # In case the necessary directory hasn't been made yet\n",
    "#     #os.makedirs(dest, exist_ok=True)\n",
    "#     np.save(arr=matrices,file=f'{dest}/data.npy',allow_pickle=True)\n",
    "#     np.save(arr=labels,file=f'{dest}/labels.npy',allow_pickle=True)\n",
    "\n",
    "# makeTask2Sets(1000,\"OHE_Task2_Testset1000\")"
   ]
  },
  {
   "cell_type": "code",
   "execution_count": 220,
   "metadata": {},
   "outputs": [],
   "source": [
    "\"\"\"Load in data: \n",
    "    Input Space: (1200, 1) one hot encoded data \"\"\"\n",
    "\n",
    "x = np.load('OHE_Task2_Trainset2000\\data.npy')[0]\n",
    "y = np.load('OHE_Task2_Trainset2000\\labels.npy')\n",
    "# w1 = np.random.rand(2000)*2 - np.ones(shape=2000)\n",
    "# w2 = np.random.rand(2000)*2 - np.ones(shape=2000)\n",
    "# w3 = np.random.rand(2000)*2 - np.ones(shape=2000)\n",
    "# w4 = np.random.rand(2000)*2 - np.ones(shape=2000)\n",
    "# w5 = np.random.rand(2000)*2 - np.ones(shape=2000)\n",
    "w1 = np.zeros(2000)\n",
    "w2 = np.zeros(2000)\n",
    "w3 = np.zeros(2000)\n",
    "w4 = np.zeros(2000)\n",
    "w5 = np.zeros(2000)\n",
    "\n",
    "weights = np.vstack((w1,w2,w3,w4,w5))\n"
   ]
  },
  {
   "cell_type": "code",
   "execution_count": 221,
   "metadata": {},
   "outputs": [],
   "source": [
    "\"\"\"Multi-Class Classification Model \n",
    "    SoftMax --> computes probabilites for each class totals to 1\n",
    "    Loss Function --> categorical cross entropy --> for all classes -log(softmax(y'))\n",
    "    Deriviate of Loss --> y' - y_actual\"\"\"\n",
    "\n",
    "def softmax(output_x=list): # output x takes 4 diff values for each weight layer\n",
    "    exp_output = np.exp(output_x - np.max(output_x))\n",
    "    probs = exp_output / np.sum(exp_output, axis=-1, keepdims=True)\n",
    "    return probs\n",
    "\n",
    "def cross_entropy_loss(y_true, y_pred):\n",
    "    epsilon = 1e-15\n",
    "    y_pred = np.clip(y_pred, epsilon, 1 - epsilon)\n",
    "    loss = -np.sum(y_true * np.log(y_pred)) / len(y_true)\n",
    "    return loss\n",
    "\n",
    "def SGD2(weights, x, ohe_y, alpha):\n",
    "    logits = []\n",
    "    for w in weights:\n",
    "        logits.append(np.dot(w, x))\n",
    "    y_pred = softmax(logits)\n",
    "    cur_loss = cross_entropy_loss(ohe_y, y_pred)\n",
    "    train = alpha * (y_pred - y)\n",
    "    weights -= train.T\n",
    "    logits.clear()\n",
    "    return cur_loss\n",
    "\n",
    "\n",
    "def feed_forward_multiclass(data, labels, num_iters):\n",
    "    w1 = np.random.rand(2000)*2 - np.ones(shape=2000)\n",
    "    w2 = np.random.rand(2000)*2 - np.ones(shape=2000)\n",
    "    w3 = np.random.rand(2000)*2 - np.ones(shape=2000)\n",
    "    w4 = np.random.rand(2000)*2 - np.ones(shape=2000)\n",
    "    w5 = np.random.rand(2000)*2 - np.ones(shape=2000)\n",
    "    weights = np.vstack((w1,w2,w3,w4,w5))\n",
    "    loss_coords = []\n",
    "    for i in range(num_iters):\n",
    "        x = data\n",
    "        y = labels\n",
    "        loss = SGD2(weights, x, y, alpha=0.1)\n",
    "        loss_coords.append(loss)\n",
    "        if i == 1:\n",
    "            print(\"InitLoss\", loss)\n",
    "    print(\"FinalLoss\", loss)\n",
    "    return loss_coords\n",
    "\n",
    "# feed_forward_multiclass(x, y, num_iters=10000)\n"
   ]
  },
  {
   "cell_type": "code",
   "execution_count": 222,
   "metadata": {},
   "outputs": [
    {
     "name": "stdout",
     "output_type": "stream",
     "text": [
      "InitLoss 3.5163076109436875\n",
      "FinalLoss 1.6657665236587973\n"
     ]
    },
    {
     "data": {
      "image/png": "[encoded data removed]",
      "text/plain": [
       "<Figure size 640x480 with 1 Axes>"
      ]
     },
     "metadata": {},
     "output_type": "display_data"
    }
   ],
   "source": [
    "loss_coords = feed_forward_multiclass(x, y, num_iters=5)\n",
    "x_vals = list(range(0,len(loss_coords)))\n",
    "plt.plot(x_vals, loss_coords)\n",
    "plt.show()"
   ]
  }
 ],
 "metadata": {
  "kernelspec": {
   "display_name": "base",
   "language": "python",
   "name": "python3"
  },
  "language_info": {
   "codemirror_mode": {
    "name": "ipython",
    "version": 3
   },
   "file_extension": ".py",
   "mimetype": "text/x-python",
   "name": "python",
   "nbconvert_exporter": "python",
   "pygments_lexer": "ipython3",
   "version": "3.11.4"
  }
 },
 "nbformat": 4,
 "nbformat_minor": 2
}
