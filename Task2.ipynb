{
 "cells": [
  {
   "cell_type": "code",
   "execution_count": 271,
   "metadata": {},
   "outputs": [],
   "source": [
    "from regression import add_neighborhood_feature, avg_loss, SGD, sigmoid\n",
    "import numpy as np\n",
    "import matplotlib.pyplot as plt\n",
    "import random\n",
    "from matplotlib.colors import ListedColormap, BoundaryNorm"
   ]
  },
  {
   "cell_type": "code",
   "execution_count": 272,
   "metadata": {},
   "outputs": [
    {
     "name": "stdout",
     "output_type": "stream",
     "text": [
      "[0 0 1 0 0]\n"
     ]
    }
   ],
   "source": [
    "# #code to generate data\n",
    "# def makeTask1Sets(N, dest):\n",
    "#     matrices = []\n",
    "#     labels = []\n",
    "#     for _ in range(int(N)):\n",
    "#         dgrm = diagram.createDiagram()\n",
    "#         danger = np.array(dgrm.layWires())\n",
    "#         matrices.append(dgrm.data.flatten())\n",
    "#         labels.append(danger)\n",
    "#     matrices = np.array(matrices)\n",
    "#     labels = np.array(labels)\n",
    "\n",
    "#     # In case the necessary directory hasn't been made yet\n",
    "#     #os.makedirs(dest, exist_ok=True)\n",
    "#     np.save(arr=matrices,file=f'{dest}/data.npy',allow_pickle=True)\n",
    "#     np.save(arr=labels,file=f'{dest}/labels.npy',allow_pickle=True)\n",
    "\n",
    "# def makeTask2Sets(N, dest):\n",
    "#     matrices = []\n",
    "#     labels = []\n",
    "\n",
    "#     count=0\n",
    "#     while(count<int(N)):\n",
    "#         dgrm = diagram.createDiagram()\n",
    "#         wireToCut = np.array((dgrm.layWires())[1])\n",
    "#         #print(f\"my wire to cut: {wireToCut}\")\n",
    "#         if not np.array_equal(wireToCut,(0,0,0,0,1)):\n",
    "#             matrices.append(dgrm.data.flatten())\n",
    "#             labels.append(wireToCut)\n",
    "#             count+=1\n",
    "\n",
    "#     matrices = np.array(matrices)\n",
    "#     labels = np.array(labels)\n",
    "\n",
    "#     # In case the necessary directory hasn't been made yet\n",
    "#     #os.makedirs(dest, exist_ok=True)\n",
    "#     np.save(arr=matrices,file=f'{dest}/data.npy',allow_pickle=True)\n",
    "#     np.save(arr=labels,file=f'{dest}/labels.npy',allow_pickle=True)"
   ]
  },
  {
   "cell_type": "code",
   "execution_count": 23,
   "metadata": {},
   "outputs": [
    {
     "name": "stdout",
     "output_type": "stream",
     "text": [
      "[0 0 1 0 0]\n"
     ]
    }
   ],
   "source": [
    "\"\"\"Load in data: \n",
    "    Input Space: (1200, 1) one hot encoded data \"\"\"\n",
    "\n",
    "x = np.load('OHE_Task2_Trainset2000\\data.npy')[0]\n",
    "y = np.load('OHE_Task2_Trainset2000\\labels.npy')\n",
    "print(y[0])\n",
    "w1 = np.random.rand(2000)*2 - np.ones(shape=2000)\n",
    "w2 = np.random.rand(2000)*2 - np.ones(shape=2000)\n",
    "w3 = np.random.rand(2000)*2 - np.ones(shape=2000)\n",
    "w4 = np.random.rand(2000)*2 - np.ones(shape=2000)\n",
    "w5 = np.random.rand(2000)*2 - np.ones(shape=2000)\n",
    "weights = np.vstack((w1,w2,w3,w4,w5))\n"
   ]
  },
  {
   "cell_type": "code",
   "execution_count": 273,
   "metadata": {},
   "outputs": [
    {
     "name": "stdout",
     "output_type": "stream",
     "text": [
      "logits [-8.006524796055098, -1.8771567204877289, -7.7614315427723, -2.2552027181279053, -1.9327462941367937]\n",
      "softmax logits [0.00082621 0.37935014 0.00105568 0.25993033 0.35883765]\n",
      "softmax sum 1.0\n",
      "cur loss 4.065531381078727\n",
      "training iteration value 0.8622304612450216\n",
      "[ 2.47862467e-03  1.13805041e+00 -2.99683296e+00  7.79790984e-01\n",
      "  1.07651294e+00]\n",
      "[ 2.47862467e-03  1.13805041e+00 -2.99683296e+00  7.79790984e-01\n",
      "  1.07651294e+00]\n",
      "[-2.99752138  1.13805041  0.00316704  0.77979098  1.07651294]\n",
      "[-2.99752138  1.13805041  0.00316704  0.77979098  1.07651294]\n",
      "[ 0.00247862  1.13805041  0.00316704 -2.22020902  1.07651294]\n",
      "training iteration value 0.8622304612450216\n"
     ]
    }
   ],
   "source": [
    "\"\"\"Multi-Class Classification Model \n",
    "    SoftMax --> computes probabilites for each class totals to 1\n",
    "    Loss Function --> categorical cross entropy --> for all classes -log(softmax(y'))\n",
    "    Deriviate of Loss --> y' - y_actual\"\"\"\n",
    "\n",
    "def softmax(output_x=list): # output x takes 4 diff values for each weight layer\n",
    "    exp_output = np.exp(output_x - np.max(output_x))\n",
    "    probs = exp_output / np.sum(exp_output, axis=-1, keepdims=True)\n",
    "    return probs\n",
    "\n",
    "def cross_entropy_loss(y_true, y_pred):\n",
    "    epsilon = 1e-15\n",
    "    y_pred = np.clip(y_pred, epsilon, 1 - epsilon)\n",
    "    loss = -np.sum(y_true * np.log(y_pred)) / len(y_true)\n",
    "    return loss\n",
    "\n",
    "def SGD2(weights, x, ohe_y, alpha):\n",
    "    logits = []\n",
    "    for w in weights:\n",
    "        logits.append(np.dot(w, x))\n",
    "    y_pred = softmax(logits)\n",
    "    cur_loss = cross_entropy_loss(ohe_y, y_pred)\n",
    "    train = alpha * (y_pred - ohe_y)\n",
    "    for index in range(len(weights)):\n",
    "        cur_train = train[index]\n",
    "        cur_weight = weights[index]\n",
    "        for w in cur_weight:\n",
    "            w -= cur_train\n",
    "    logits.clear()\n",
    "    print(cur_loss)\n",
    "    return cur_loss\n",
    "\n",
    "\n",
    "def feed_forward_multiclass(data, labels, num_iters):\n",
    "    w1 = np.random.rand(2000)*2 - np.ones(shape=2000)\n",
    "    w2 = np.random.rand(2000)*2 - np.ones(shape=2000)\n",
    "    w3 = np.random.rand(2000)*2 - np.ones(shape=2000)\n",
    "    w4 = np.random.rand(2000)*2 - np.ones(shape=2000)\n",
    "    w5 = np.random.rand(2000)*2 - np.ones(shape=2000)\n",
    "    weights = np.vstack((w1,w2,w3,w4,w5))\n",
    "    for i in range(num_iters):\n",
    "        x = data\n",
    "        y = labels\n",
    "        loss = SGD2(weights, x, y, alpha=1)\n",
    "        print(loss)\n",
    "\n",
    "# feed_forward_multiclass(x, y, num_iters=10)\n",
    "logits = []\n",
    "for w in weights:\n",
    "    logits.append(np.dot(x, w))\n",
    "print(\"logits\", logits)\n",
    "\n",
    "print(\"softmax logits\", softmax(logits))\n",
    "print(\"softmax sum\", np.sum(softmax(logits)))\n",
    "print(\"cur loss\", cross_entropy_loss(y, softmax(logits)))\n",
    "train = 1 * (softmax(logits) - y)\n",
    "print(\"training iteration value\", (weights[0][0]))\n",
    "for index in range(len(weights)):\n",
    "        cur_train = train[index]\n",
    "        print(cur_train)\n",
    "        cur_weight = weights[index]\n",
    "        for w in cur_weight:\n",
    "            w -= cur_train\n",
    "print(\"training iteration value\", (weights[0][0]))"
   ]
  }
 ],
 "metadata": {
  "kernelspec": {
   "display_name": "base",
   "language": "python",
   "name": "python3"
  },
  "language_info": {
   "codemirror_mode": {
    "name": "ipython",
    "version": 3
   },
   "file_extension": ".py",
   "mimetype": "text/x-python",
   "name": "python",
   "nbconvert_exporter": "python",
   "pygments_lexer": "ipython3",
   "version": "3.10.13"
  }
 },
 "nbformat": 4,
 "nbformat_minor": 2
}
