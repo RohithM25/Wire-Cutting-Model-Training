{
 "cells": [
  {
   "cell_type": "markdown",
   "metadata": {},
   "source": [
    "### Project 3\n",
    "\n",
    "Refer to the project writeup [here](https://rutgers.app.box.com/s/k5jsawk0jwsprkcha0z2n2tli3pv53l7)\n"
   ]
  },
  {
   "cell_type": "code",
   "execution_count": 1,
   "metadata": {},
   "outputs": [],
   "source": [
    "#first create a sample training image. Then worry about how to classify it\n",
    "#can we use the same training set from task 1 for task 2, provided it's classified correctly\n",
    "import math\n",
    "import numpy as np\n",
    "import matplotlib.pyplot as plt\n",
    "import random\n",
    "from matplotlib.colors import ListedColormap, BoundaryNorm\n",
    "\n",
    "# import xlsxwriter"
   ]
  },
  {
   "cell_type": "code",
   "execution_count": 2,
   "metadata": {},
   "outputs": [
    {
     "data": {
      "image/png": "[encoded data removed]",
      "text/plain": [
       "<Figure size 640x480 with 2 Axes>"
      ]
     },
     "metadata": {},
     "output_type": "display_data"
    }
   ],
   "source": [
    "class diagram:\n",
    "    def __init__(self, data):\n",
    "        self.data = data #this will be a 20x20 matrix\n",
    "\n",
    "    @classmethod\n",
    "    def createDiagram(cls):\n",
    "        dgrm = cls(np.zeros((20,20), dtype=float))\n",
    "        return dgrm\n",
    "    \n",
    "    def layWires(self):\n",
    "        possibleRows = [i for i in range(self.data.shape[0])] \n",
    "        possibleColumns = [i for i in range(self.data.shape[1])]\n",
    "\n",
    "        colors = [1,2,3,4] #1 is red, 2 is blue, 3 is yellow, 4 is green\n",
    "        layRowFirst = random.randrange(2) #0 indicates false, 1 indicates true\n",
    "        dangerous = 0 #boolean to keep track of whether the diagram is dangerous. #0 means not dangerous, 1 meeans it is dangerous\n",
    "        thirdWireLaid = 0 #this will hold the color of the 3rd wire laid down\n",
    "        for i in range(4):\n",
    "            color = colors.pop(random.randrange(len(colors)))\n",
    "            \n",
    "            #if the wire to be laid is yellow and the red wire is already laid, mark diagram as dangerous\n",
    "            if color == 3 and (1 not in colors): dangerous = 1\n",
    "            \n",
    "            if i==2: thirdWireLaid = color\n",
    "            if i%2 == 0:\n",
    "                if layRowFirst == 1:\n",
    "                    row = possibleRows.pop(random.randrange(len(possibleRows)))\n",
    "                    for j in range(self.data.shape[0]): self.data[row][j] = color\n",
    "                else:\n",
    "                    col = possibleColumns.pop(random.randrange(len(possibleColumns)))\n",
    "                    for j in range(self.data.shape[1]): self.data[j][col] = color\n",
    "            else:\n",
    "                if layRowFirst == 1:\n",
    "                    col = possibleColumns.pop(random.randrange(len(possibleColumns)))\n",
    "                    for j in range(self.data.shape[1]): self.data[j][col] = color\n",
    "                else:\n",
    "                    row = possibleRows.pop(random.randrange(len(possibleRows)))\n",
    "                    for j in range(self.data.shape[0]): self.data[row][j] = color\n",
    "        \n",
    "        return (dangerous,0) if dangerous == 0 else (dangerous,thirdWireLaid)\n",
    "\n",
    "\n",
    "    def showDiagram(self):\n",
    "        colors = ['white', 'red', 'blue', 'yellow','green']\n",
    "        custom_map = ListedColormap(colors)\n",
    "        bounds = [-.1, .5, 1.5, 2.5, 3.5, 4.5]\n",
    "        norm = BoundaryNorm(bounds, custom_map.N)\n",
    "        plt.imshow(self.data, cmap = custom_map, norm=norm)\n",
    "        \n",
    "        #Ensure shows plot with increments of 1\n",
    "        plt.xticks(np.arange(-0.5, self.data.shape[1], 1), labels=[])\n",
    "        plt.yticks(np.arange(-0.5, self.data.shape[0], 1), labels=[])\n",
    "\n",
    "        #Show gridlines \n",
    "        plt.grid(True)\n",
    "\n",
    "        #Show colorbar\n",
    "        plt.colorbar()\n",
    "        plt.show()\n",
    "\n",
    "dgrm = diagram.createDiagram()\n",
    "dgrm.layWires()\n",
    "dgrm.showDiagram()\n"
   ]
  },
  {
   "cell_type": "code",
   "execution_count": 3,
   "metadata": {},
   "outputs": [
    {
     "data": {
      "image/png": "[encoded data removed]",
      "text/plain": [
       "<Figure size 640x480 with 2 Axes>"
      ]
     },
     "metadata": {},
     "output_type": "display_data"
    }
   ],
   "source": [
    "data = np.load('1k_data/data.npy')\n",
    "labels = np.load('1k_data/labels.npy')\n",
    "\n",
    "dgrm = diagram(data[0].reshape((20,20)))\n",
    "dgrm.showDiagram()"
   ]
  },
  {
   "cell_type": "code",
   "execution_count": 4,
   "metadata": {},
   "outputs": [],
   "source": [
    "np.random.seed(42)\n",
    "def SGD(w, x, y, alpha):\n",
    "    # compute estimated output y'\n",
    "    y_prime = sigmoid(float(np.dot(x,w)))\n",
    "    # compute Loss of y' compared to y where y is the actual/correct output\n",
    "    cur_loss = loss(y, y_prime) #+ (1e-10 * np.sum(np.abs(w))) # l2 reg can be changed for the model\n",
    "    # SGD with new weights = old weights - alpha (sig(w * x) - y)xi) \n",
    "    w -= alpha * (y_prime - y) * x\n",
    "    return cur_loss\n",
    "\n",
    "def sigmoid(z):\n",
    "    return (1 / (1 + np.exp(-z)))\n",
    "\n",
    "def avg_loss(data, w, labels):\n",
    "    losses = [loss(sigmoid(np.dot(x, w)), y) for x, y in zip(data, labels[:, 0])]\n",
    "    return np.average(losses)\n",
    "\n",
    "def loss(actual_y, y_prime):\n",
    "    epsilon = 1e-15\n",
    "    return -actual_y * np.log(y_prime+epsilon) - (1-actual_y) * np.log(1-y_prime+epsilon)\n",
    "\n",
    "def add_polynomial_features(X, degree):\n",
    "    \"\"\"Add polynomial features to the input data.\"\"\"\n",
    "    features = [X]\n",
    "    for d in range(2, degree + 1):\n",
    "        features.append(X**d)\n",
    "    return np.column_stack(features)\n"
   ]
  },
  {
   "cell_type": "code",
   "execution_count": 5,
   "metadata": {},
   "outputs": [
    {
     "ename": "NameError",
     "evalue": "name 'accuracy' is not defined",
     "output_type": "error",
     "traceback": [
      "\u001b[1;31m---------------------------------------------------------------------------\u001b[0m",
      "\u001b[1;31mNameError\u001b[0m                                 Traceback (most recent call last)",
      "Cell \u001b[1;32mIn[5], line 14\u001b[0m\n\u001b[0;32m     11\u001b[0m     \u001b[38;5;28mprint\u001b[39m(\u001b[38;5;124mf\u001b[39m\u001b[38;5;124m'\u001b[39m\u001b[38;5;124mAverage Loss: \u001b[39m\u001b[38;5;132;01m{\u001b[39;00mavg_loss(data,w,labels)\u001b[38;5;132;01m}\u001b[39;00m\u001b[38;5;124m, Accuracy on testing set: \u001b[39m\u001b[38;5;132;01m{\u001b[39;00maccuracy(data,\u001b[38;5;250m \u001b[39mlabels,\u001b[38;5;250m \u001b[39mw)\u001b[38;5;132;01m}\u001b[39;00m\u001b[38;5;124m'\u001b[39m)\n\u001b[0;32m     12\u001b[0m     \u001b[38;5;28;01mreturn\u001b[39;00m w\n\u001b[1;32m---> 14\u001b[0m feed_forward(data,labels)\n",
      "Cell \u001b[1;32mIn[5], line 11\u001b[0m, in \u001b[0;36mfeed_forward\u001b[1;34m(data, labels, num_iters)\u001b[0m\n\u001b[0;32m      8\u001b[0m     y \u001b[38;5;241m=\u001b[39m labels[index][\u001b[38;5;241m0\u001b[39m]\n\u001b[0;32m      9\u001b[0m     loss \u001b[38;5;241m=\u001b[39m SGD(w, x, y, alpha\u001b[38;5;241m=\u001b[39m\u001b[38;5;241m0.01\u001b[39m)\n\u001b[1;32m---> 11\u001b[0m \u001b[38;5;28mprint\u001b[39m(\u001b[38;5;124mf\u001b[39m\u001b[38;5;124m'\u001b[39m\u001b[38;5;124mAverage Loss: \u001b[39m\u001b[38;5;132;01m{\u001b[39;00mavg_loss(data,w,labels)\u001b[38;5;132;01m}\u001b[39;00m\u001b[38;5;124m, Accuracy on testing set: \u001b[39m\u001b[38;5;132;01m{\u001b[39;00maccuracy(data,\u001b[38;5;250m \u001b[39mlabels,\u001b[38;5;250m \u001b[39mw)\u001b[38;5;132;01m}\u001b[39;00m\u001b[38;5;124m'\u001b[39m)\n\u001b[0;32m     12\u001b[0m \u001b[38;5;28;01mreturn\u001b[39;00m w\n",
      "\u001b[1;31mNameError\u001b[0m: name 'accuracy' is not defined"
     ]
    }
   ],
   "source": [
    "def feed_forward(data,labels, num_iters = 10000):\n",
    "    data = np.column_stack([data, np.ones(data.shape[0])]) # Adding in a bias term\n",
    "    samples,features = data.shape\n",
    "    w = np.random.rand(features)*2 - np.ones(shape=features) #[0,1] -> [-100,100]\n",
    "    for i in range(num_iters):\n",
    "        index = np.random.randint(0, 1000)\n",
    "        x = data[index]\n",
    "        y = labels[index][0]\n",
    "        loss = SGD(w, x, y, alpha=0.01)\n",
    "        \n",
    "    print(f'Average Loss: {avg_loss(data,w,labels)}, Accuracy on testing set: {accuracy(data, labels, w)}')\n",
    "    return w\n",
    "\n",
    "feed_forward(data,labels)"
   ]
  },
  {
   "cell_type": "code",
   "execution_count": null,
   "metadata": {},
   "outputs": [
    {
     "name": "stderr",
     "output_type": "stream",
     "text": [
      "/var/folders/s3/7dcm_x3n32s6xdtw73kmq6k40000gn/T/ipykernel_52678/32717976.py:12: RuntimeWarning: overflow encountered in exp\n",
      "  return (1 / (1 + np.exp(-z)))\n"
     ]
    },
    {
     "name": "stdout",
     "output_type": "stream",
     "text": [
      "Average Loss: 12.503037054941636, Accuracy on testing set: 0.638\n"
     ]
    },
    {
     "data": {
      "text/plain": [
       "array([ -2.73728011,  -0.1355161 ,   0.75755245, ...,   3.42666376,\n",
       "       -41.98085156,  -0.7224934 ])"
      ]
     },
     "execution_count": 92,
     "metadata": {},
     "output_type": "execute_result"
    }
   ],
   "source": [
    "# Now let's play around with adding non-linear features from our input space\n",
    "new_inp = add_polynomial_features(data,4)\n",
    "feed_forward(new_inp,labels,num_iters=20000)"
   ]
  },
  {
   "cell_type": "code",
   "execution_count": null,
   "metadata": {},
   "outputs": [
    {
     "name": "stderr",
     "output_type": "stream",
     "text": [
      "/var/folders/s3/7dcm_x3n32s6xdtw73kmq6k40000gn/T/ipykernel_52678/32717976.py:12: RuntimeWarning: overflow encountered in exp\n",
      "  return (1 / (1 + np.exp(-z)))\n"
     ]
    },
    {
     "name": "stdout",
     "output_type": "stream",
     "text": [
      "12.2958043965882\n"
     ]
    }
   ],
   "source": [
    "with_sin = np.column_stack([data,])\n",
    "feed_forward(with_sin,labels,num_iters=20000)"
   ]
  },
  {
   "cell_type": "code",
   "execution_count": null,
   "metadata": {},
   "outputs": [
    {
     "data": {
      "text/plain": [
       "True"
      ]
     },
     "execution_count": 61,
     "metadata": {},
     "output_type": "execute_result"
    }
   ],
   "source": [
    "def compute_neighborhood_mean(data, window_size):\n",
    "    image = data.reshape((20,20))\n",
    "    padded_image = np.pad(image, pad_width=window_size//2, mode='constant')\n",
    "\n",
    "    neighborhood_means = np.zeros_like(image, dtype=np.float64)\n",
    "\n",
    "    for i in range(image.shape[0]):\n",
    "        for j in range(image.shape[1]):\n",
    "            neighborhood = padded_image[i:i+window_size, j:j+window_size]\n",
    "            neighborhood_means[i, j] = np.mean(neighborhood)\n",
    "\n",
    "    return neighborhood_means\n",
    "\n",
    "def compute_neighborhood_mean2(image, window_size):\n",
    "    image = image.reshape((20,20))\n",
    "\n",
    "    padded_image = np.pad(image, pad_width=window_size//2, mode='constant')\n",
    "\n",
    "    windowed_view = np.lib.stride_tricks.sliding_window_view(padded_image, (window_size, window_size))\n",
    "\n",
    "    neighborhood_means = np.mean(windowed_view, axis=(-2, -1))\n",
    "\n",
    "    return neighborhood_means\n",
    "\n"
   ]
  },
  {
   "cell_type": "code",
   "execution_count": null,
   "metadata": {},
   "outputs": [
    {
     "name": "stdout",
     "output_type": "stream",
     "text": [
      "111 µs ± 135 ns per loop (mean ± std. dev. of 7 runs, 10,000 loops each)\n"
     ]
    }
   ],
   "source": [
    "%%timeit\n",
    "means = compute_neighborhood_mean2(data[0], 3)"
   ]
  },
  {
   "cell_type": "code",
   "execution_count": null,
   "metadata": {},
   "outputs": [
    {
     "name": "stdout",
     "output_type": "stream",
     "text": [
      "4.11 ms ± 29.1 µs per loop (mean ± std. dev. of 7 runs, 100 loops each)\n"
     ]
    }
   ],
   "source": [
    "%%timeit\n",
    "means1 = compute_neighborhood_mean(data[0],3)"
   ]
  },
  {
   "cell_type": "code",
   "execution_count": null,
   "metadata": {},
   "outputs": [
    {
     "name": "stdout",
     "output_type": "stream",
     "text": [
      "(1000, 400)\n",
      "(1000, 800)\n"
     ]
    }
   ],
   "source": [
    "def add_neighborhood_feature(data, window_size=3):\n",
    "    new_data = [] # store all the new data points in here\n",
    "    for i in range(data.shape[0]): #i.e for each data point\n",
    "        means = compute_neighborhood_mean2(data[i], window_size)\n",
    "        new_data.append(np.concatenate((data[i], means.flatten())))\n",
    "    return np.array(new_data)\n",
    "\n",
    "print(data.shape)\n",
    "new = add_neighborhood_feature(data)\n",
    "print(new.shape)\n",
    "\n",
    "        "
   ]
  },
  {
   "cell_type": "code",
   "execution_count": null,
   "metadata": {},
   "outputs": [
    {
     "name": "stdout",
     "output_type": "stream",
     "text": [
      "Average Loss: 10.229225812698015, Accuracy on testing set: 0.73\n"
     ]
    },
    {
     "data": {
      "text/plain": [
       "array([-2.29861927e-01,  1.06249047e-01, -2.70887192e-01, -4.32708977e-01,\n",
       "        4.76265576e-01,  9.54428837e-01,  6.05584766e-01,  5.84350337e-02,\n",
       "       -5.25762932e-02,  9.53433366e-02, -8.53578415e-01,  1.12996372e+00,\n",
       "       -5.26239492e-01,  1.45022049e+00,  3.07020080e-01, -1.69617224e-01,\n",
       "       -8.45507033e-02, -2.28807139e+00, -6.29519410e-01, -1.87728103e-01,\n",
       "        9.31823609e-01, -1.47668576e-01,  4.00951816e-01, -6.01158509e-01,\n",
       "        1.19380712e+00, -8.63400021e-01, -9.49208014e-01,  2.04650893e-02,\n",
       "        6.87548098e-01, -4.43941294e-01, -1.89536540e-01,  1.00335164e+00,\n",
       "       -1.51761146e-01,  5.53568575e-01, -6.94315686e-01, -8.56373419e-03,\n",
       "        2.66176219e-01, -7.14474078e-01, -3.79937012e-01,  7.83613267e-02,\n",
       "       -6.44022243e-01,  1.00126091e+00, -1.88003576e-01, -7.94213576e-01,\n",
       "       -7.09229543e-01,  6.83415277e-01,  1.11741079e-01, -1.14120836e+00,\n",
       "        1.07452937e+00,  1.14825739e+00,  1.02041185e-01, -1.58876217e-01,\n",
       "        3.62315746e-01,  2.47095517e-01, -1.02968725e+00, -5.01100265e-01,\n",
       "       -9.40815415e-01,  6.66181175e-01,  4.33853913e-01,  6.01086564e-01,\n",
       "       -8.52135476e-01,  2.10478446e+00, -4.48847569e-01,  5.25834903e-01,\n",
       "        1.88138099e-01,  1.17372240e+00, -8.47278907e-01,  1.48661910e-01,\n",
       "       -5.71372986e-01, -1.18514603e-01,  5.60164162e-01, -1.23004959e+00,\n",
       "       -6.75725460e-01,  6.69359062e-01,  1.51271833e+00, -2.63761956e-01,\n",
       "       -7.36007691e-01,  3.03701141e-01,  5.89849751e-01, -2.19446628e+00,\n",
       "        2.81962196e-01, -1.66244372e-01,  1.66634330e+00,  1.66325073e-01,\n",
       "        1.34350404e-01, -6.56307618e-01,  1.22237749e+00, -2.95886632e-01,\n",
       "       -5.54698391e-01, -2.64638223e-01, -1.58494775e-01, -7.22763548e-01,\n",
       "       -1.75772760e-01, -7.07908137e-02,  1.41071154e+00, -2.78028521e-02,\n",
       "       -8.13619402e-02, -6.98980791e-01, -8.96362809e-01, -9.56201413e-02,\n",
       "       -5.52887257e-01, -4.30801915e-01, -7.13559868e-01,  4.87891674e-01,\n",
       "       -3.49543870e-01,  3.81011627e-02,  2.47879531e-01, -9.62408829e-01,\n",
       "       -2.67131446e-01,  1.90424589e-01,  3.16215763e-01, -1.03844103e+00,\n",
       "        8.89299509e-01,  3.59034505e-01, -7.50057074e-01, -1.63227390e+00,\n",
       "       -1.64874106e-01,  1.97226339e+00, -6.57987595e-01,  1.56632861e+00,\n",
       "        9.28314554e-01, -9.72805920e-01,  2.55150229e-01, -3.31387999e-01,\n",
       "       -1.22422041e+00,  1.28263906e-01,  4.34603414e-02, -4.97479552e-01,\n",
       "        1.67219401e+00, -1.84951548e+00,  8.78277319e-01, -2.14881183e-01,\n",
       "        1.77466873e-01,  5.78208466e-01,  1.04609423e+00,  9.65813187e-01,\n",
       "       -2.34916080e-01,  8.64956908e-02,  7.20197046e-02, -1.97693258e+00,\n",
       "       -8.81960697e-01,  2.19668805e-01, -2.92892175e-01,  5.60345280e-01,\n",
       "        6.66902348e-03, -1.26848273e+00, -1.52990272e+00,  1.43807994e+00,\n",
       "       -1.12008773e+00, -1.26309054e+00,  9.48795514e-01, -4.76887682e-02,\n",
       "        9.83077190e-02,  1.30053253e+00, -9.12845989e-02,  4.95698762e-01,\n",
       "        1.96705851e-02,  7.45158201e-01,  7.20899622e-01,  4.15006689e-01,\n",
       "       -1.00775721e+00,  8.71604483e-01, -1.95952297e+00, -8.00112902e-01,\n",
       "       -6.15160183e-01,  9.82808258e-01, -7.60167802e-01, -6.18509200e-02,\n",
       "        6.05565406e-01,  1.93085710e+00, -7.60886297e-01,  2.44636737e+00,\n",
       "       -1.21999028e+00, -8.76493546e-01, -6.66502985e-01,  4.12295974e-01,\n",
       "        1.10559363e+00, -4.43897675e-01, -4.75629809e-01,  1.47710919e+00,\n",
       "        6.98371560e-01, -4.04162200e-01,  1.23621550e+00,  2.70569380e+00,\n",
       "       -1.30124961e+00, -3.62984551e-01,  6.92220210e-01,  9.74512586e-01,\n",
       "       -5.68707049e-02, -1.73575395e+00,  1.82483392e-02,  4.09956364e-01,\n",
       "        1.19505616e-02, -3.49099655e-01,  1.57105388e-01, -1.75174674e+00,\n",
       "        8.34478986e-01, -1.76934856e+00,  1.32200904e+00, -1.70528971e-01,\n",
       "        7.85791075e-01, -2.58843944e+00,  7.24864920e-01,  3.10082741e-01,\n",
       "        4.01235186e-01,  1.95487258e+00, -3.43467326e-01, -1.42579461e-01,\n",
       "       -5.27291219e-01,  1.45568919e+00,  8.18174270e-01, -1.86410207e-01,\n",
       "       -9.36080734e-01,  4.61863760e-01, -1.69520409e-01,  8.66532609e-01,\n",
       "       -3.27794682e-01, -2.20238551e+00,  7.34116522e-01, -1.75252561e+00,\n",
       "       -5.82009765e-01, -4.56872481e-01, -1.06262378e+00, -1.11373755e-01,\n",
       "       -3.04228052e-02,  1.75411111e+00,  1.31524997e-01,  2.48087740e-01,\n",
       "       -1.18037678e-01, -1.17956969e+00,  1.12952906e-01,  1.87168954e-01,\n",
       "        1.99831567e+00, -1.03223100e+00, -8.75572353e-01,  5.70563693e-01,\n",
       "        5.53081407e-01, -8.94879964e-01,  1.22981576e+00, -1.18373279e+00,\n",
       "        5.44111554e-01, -6.20730347e-01,  6.03123029e-01, -2.98257543e-01,\n",
       "        6.71854784e-01, -3.26719301e-01,  7.83649686e-01, -1.05091930e+00,\n",
       "       -8.07114964e-01, -8.12037358e-01,  5.79563326e-01, -3.56416296e-01,\n",
       "        2.90317134e-01, -2.29386447e+00,  1.48333939e+00, -9.28638851e-01,\n",
       "        1.53526294e+00,  1.56292483e+00, -4.67891381e-01,  5.12844001e-01,\n",
       "        3.90887466e-01,  2.51804473e-02, -6.77681643e-01,  6.60419906e-01,\n",
       "       -3.93964464e-01,  2.54472257e-02,  8.53286246e-01, -8.29595632e-01,\n",
       "       -5.91885744e-01,  1.67580253e-01,  4.98523411e-01, -1.09326731e+00,\n",
       "       -4.52563817e-01, -8.22953285e-01,  4.75999223e-01, -3.46613959e-02,\n",
       "       -5.55136260e-01,  6.75536365e-02,  1.56279003e-01,  7.63414660e-01,\n",
       "        3.71080373e-01, -1.63230312e+00,  1.22096648e+00,  1.44735927e+00,\n",
       "        9.54861303e-01, -6.53077563e-01,  5.30215466e-01, -6.42218362e-02,\n",
       "       -8.21029028e-02, -1.96941215e-01,  3.18849681e-01, -4.85488681e-01,\n",
       "        7.40145539e-01,  7.60098973e-01, -5.78306160e-01,  2.82552133e-01,\n",
       "       -2.31222104e-01, -1.31594291e-01, -1.78395578e+00, -6.60897530e-01,\n",
       "       -1.07396182e-01, -2.82913170e-01,  1.32053590e+00, -4.15208724e-01,\n",
       "       -5.16139219e-02, -1.22377734e-01,  4.07479302e-01,  5.96197340e-01,\n",
       "       -3.84105766e-01,  2.16403527e+00, -2.00465485e+00,  3.88150516e-01,\n",
       "        4.56857127e-01,  3.52344790e-01, -1.16684256e+00,  2.63143234e-01,\n",
       "        2.36669517e-01, -3.85431971e-01, -9.64737968e-01,  5.73090944e-01,\n",
       "       -1.27336704e+00,  1.48431864e-01,  5.52661773e-01, -7.63201851e-01,\n",
       "       -4.51313897e-01,  1.18631057e+00,  1.23886715e+00,  7.02281211e-01,\n",
       "       -2.26257844e-01, -1.53150319e+00,  8.34047940e-01, -8.18975559e-01,\n",
       "       -9.99601724e-01,  1.32640759e+00, -6.60051262e-02,  2.21987463e+00,\n",
       "       -1.38883919e+00,  6.15300974e-01,  4.28599546e-01,  5.63233739e-01,\n",
       "        6.27414795e-01,  9.64465024e-01,  5.26921472e-01,  2.12488205e-01,\n",
       "        1.61549881e+00, -3.53203278e-01,  4.45409851e-01,  2.09502573e+00,\n",
       "       -2.00211257e+00, -3.04364499e-01, -1.33613856e+00,  1.57764510e-01,\n",
       "        1.16260427e+00,  1.73286114e-02, -2.59916705e-01, -7.45516523e-01,\n",
       "       -2.86778701e-01,  8.51318783e-01, -6.06070666e-01,  1.97196189e+00,\n",
       "        9.84719917e-01,  1.48276982e+00, -4.05535147e-01, -1.92927538e+00,\n",
       "        3.90808254e-01, -1.34690200e+00, -3.98853551e-01,  2.76428397e-01,\n",
       "        9.43127117e-01,  2.30317669e-01, -8.15356936e-01,  8.08178392e-01,\n",
       "        4.71445407e-01, -3.12423797e-01,  6.88154451e-01,  8.80458615e-01,\n",
       "       -4.53064008e-02,  1.34180157e+00,  2.16745937e-01, -1.84236393e-01,\n",
       "       -1.20724903e+00,  8.54687619e-01, -1.33366750e+00,  3.85803004e-01,\n",
       "        5.47020611e-01,  9.78643474e-01,  1.32667939e+00,  2.55684793e-01,\n",
       "        8.82136764e-01, -4.99979363e-01, -1.38044123e+00, -3.30379837e-02,\n",
       "        1.78541401e-01, -5.06188801e-01, -6.35028340e-01, -1.86114622e-01,\n",
       "        1.19943123e+00,  1.74317632e+00, -3.71776717e-02, -1.87661791e+00,\n",
       "        1.40803594e-01,  1.27770417e+00, -1.14338669e-01,  2.80073887e-01,\n",
       "       -2.06361891e-01,  6.02709402e-01, -5.77489405e-01, -8.10635522e-01,\n",
       "       -1.05006011e-01,  9.60660438e-01, -5.50724339e-01,  3.54239364e-01,\n",
       "       -6.12431457e-01,  9.78044361e-01, -7.87057407e-01,  7.82106950e-01,\n",
       "        6.20033615e-01,  4.48330603e-01,  5.79979557e-01, -4.23264475e-01,\n",
       "        3.16620497e-01, -8.84159242e-02,  2.84787223e-01, -3.92820578e-02,\n",
       "        3.07125540e-01,  7.47926322e-01, -7.75594290e-01,  1.28310940e-04,\n",
       "       -3.48831462e-01, -4.08432772e-01,  8.80606462e-01,  2.85763276e-01,\n",
       "       -5.81551144e-01, -4.39544217e-01, -8.86323781e-01,  4.80857926e-01,\n",
       "        9.08723619e-02, -1.68633860e-01, -1.50708277e-01, -3.33768820e-01,\n",
       "       -3.36880588e-01,  9.14445917e-01,  1.25197517e-01, -6.32512879e-01,\n",
       "       -3.67504251e-01, -5.56759168e-02, -1.31155160e+00,  6.98940071e-02,\n",
       "       -1.89257241e-01,  4.34462400e-01,  9.32012277e-01, -6.77883409e-01,\n",
       "        8.29095368e-01, -3.14630663e-01,  1.22384725e-01,  4.73384617e-01,\n",
       "        6.86473257e-01,  4.47692427e-01,  7.46678017e-01,  4.72212779e-01,\n",
       "       -6.97009357e-01,  5.10786349e-01, -2.03852886e-01, -3.92705725e-01,\n",
       "       -2.87077150e-01, -8.77614039e-01, -2.40900121e-01, -1.70566527e-01,\n",
       "        6.80786091e-01,  1.18427483e-01,  5.53990099e-01, -1.01894034e+00,\n",
       "       -2.83698334e-01,  9.10467990e-01, -4.37278315e-01, -6.77182025e-01,\n",
       "        7.64215337e-01, -5.07666905e-02,  9.12066916e-01, -1.04130854e-01,\n",
       "       -8.41696171e-01, -9.02657454e-01, -1.06378624e-01,  9.07176060e-01,\n",
       "        1.01464534e+00, -7.74799725e-01, -1.03842966e+00, -9.90632652e-01,\n",
       "       -7.99800531e-01,  2.08683875e-02,  7.70385122e-01,  4.57485724e-01,\n",
       "        1.29668021e-01,  1.36517209e-01,  6.09951391e-01, -4.14832302e-01,\n",
       "       -7.74188514e-01, -5.78192488e-01,  8.16702666e-01,  3.76704568e-01,\n",
       "        7.49630828e-01,  1.03293533e-01,  2.22059230e-01,  2.27544348e-01,\n",
       "       -8.08371312e-01,  1.60831474e-01,  7.56352278e-01,  7.52599820e-01,\n",
       "        3.07155185e-01,  1.24879934e+00, -8.19361369e-01,  2.35544939e-01,\n",
       "        7.18668859e-01, -4.57496812e-01,  3.35298141e-01, -5.52588210e-01,\n",
       "        3.34458501e-02, -7.41230769e-01, -5.45163588e-01,  3.21067116e-01,\n",
       "        4.04791198e-02,  6.79894443e-01, -5.61923362e-01, -9.15459342e-01,\n",
       "       -7.52955325e-01,  5.34300251e-01, -2.41549930e-02,  6.10651233e-01,\n",
       "       -2.16673676e-01,  1.94415671e-01,  5.88756981e-02,  5.39851829e-01,\n",
       "       -6.58026480e-01,  7.15009587e-01, -4.24392671e-02, -4.04965158e-01,\n",
       "        7.82047334e-01, -2.12885967e-01,  1.54101794e+00, -3.74157763e-01,\n",
       "        2.58778859e-01, -5.61416534e-01, -8.18295043e-01,  3.74206650e-01,\n",
       "       -2.16737765e-01, -1.18908524e+00,  1.55725417e-01, -4.00457088e-01,\n",
       "       -4.28422468e-01, -1.68604341e-02,  4.10968542e-01,  5.88656726e-02,\n",
       "        4.54897805e-01,  1.07042554e+00, -2.58333433e-01,  8.36975778e-01,\n",
       "        5.21049347e-02,  3.53451456e-01, -1.99288554e-01,  5.58330707e-01,\n",
       "        1.14467941e+00, -8.10521653e-01,  1.11746848e+00, -1.26623761e-01,\n",
       "       -9.48493174e-01, -8.59549497e-01, -1.69213823e-01, -3.52285207e-01,\n",
       "       -1.21919608e-01,  7.98966036e-01, -5.17571022e-02, -7.03511564e-01,\n",
       "       -6.90863803e-01, -8.31891426e-01, -6.47030714e-01, -2.19306362e-01,\n",
       "       -5.87856055e-02, -7.55402281e-01, -4.43336219e-01,  1.09303367e+00,\n",
       "       -4.71919888e-02, -4.46506789e-01, -4.03301441e-01,  4.28479316e-01,\n",
       "       -7.46814031e-02,  6.90945629e-01,  5.42974828e-01,  6.77340703e-01,\n",
       "       -4.58447638e-01,  1.19242723e+00,  9.65050351e-01,  8.90572053e-01,\n",
       "        2.60303786e-01,  4.70275324e-01,  2.52288445e-01, -5.87966228e-01,\n",
       "       -1.11502680e+00, -8.66121338e-01, -7.41464887e-01,  5.09450291e-01,\n",
       "        5.65625024e-01,  7.50360218e-01,  6.19907452e-01, -2.16082112e-01,\n",
       "        4.89126425e-01, -1.33557457e-01, -1.46519961e-01,  2.98132094e-01,\n",
       "       -2.10719158e-02,  5.11835355e-01,  5.21110009e-01,  9.34089432e-01,\n",
       "       -9.29476574e-02,  2.65889784e-01, -8.58293739e-01,  3.84876575e-01,\n",
       "       -1.07038089e+00, -1.16771463e+00, -4.70443930e-01, -6.68507519e-01,\n",
       "        4.84663876e-01,  3.26237527e-01, -2.99769814e-01,  4.11612025e-01,\n",
       "        1.13376227e+00,  3.82217087e-01, -6.51290312e-01, -5.29718191e-01,\n",
       "        9.85846680e-01,  1.56434846e-02,  4.30594759e-01, -5.52104014e-01,\n",
       "        2.51228641e-02, -1.15270977e+00, -5.84064895e-01, -4.69293180e-01,\n",
       "        3.59200852e-01, -6.37307226e-01,  3.65546906e-01,  4.60122002e-01,\n",
       "        4.95772381e-01,  7.80572708e-02, -3.47366064e-01,  6.15638873e-01,\n",
       "        1.36613811e-01,  8.51205444e-01, -3.75762846e-02,  7.96711706e-01,\n",
       "        4.84251164e-01,  3.84037843e-01, -9.36990211e-02,  1.97782045e-01,\n",
       "       -9.30663264e-02, -2.43526608e-01,  1.14469359e-01, -6.45259213e-02,\n",
       "       -4.17142688e-01,  7.26541165e-01, -5.88222965e-01, -5.39952781e-01,\n",
       "        5.88403391e-01,  7.72878722e-01, -4.96275486e-01,  1.50979119e+00,\n",
       "       -6.81705616e-01, -6.26953230e-01, -4.72316184e-01,  3.60541630e-01,\n",
       "       -8.87841785e-02,  6.39086102e-01, -1.28188507e+00,  2.68802940e-01,\n",
       "        2.23422754e-01, -6.28501943e-01, -5.23257662e-02, -3.84209161e-01,\n",
       "       -1.45858984e-01, -4.32257712e-02,  2.68654546e-01,  8.28653138e-01,\n",
       "        1.85192595e-01,  1.18530075e-01, -2.65745652e-01, -1.06179070e-01,\n",
       "       -2.32894744e-02,  7.71332255e-01, -9.71934093e-01, -6.94058887e-01,\n",
       "        7.37117577e-01,  3.22330835e-01,  6.99374189e-01,  2.00682162e-01,\n",
       "       -2.98752514e-01, -7.15158906e-01,  8.78873534e-01,  7.26589597e-01,\n",
       "        1.75410361e-02,  1.33903495e-01,  4.54137836e-01,  4.75757353e-01,\n",
       "       -6.24197930e-01, -1.00670798e-01, -2.69297837e-01,  4.80878672e-01,\n",
       "        3.11191650e-01, -7.21777746e-01,  1.46017609e-01, -5.80194102e-01,\n",
       "        2.18447325e-01,  7.12781327e-01,  1.90112166e-01,  8.42127823e-02,\n",
       "       -3.22359572e-01,  4.05388847e-01,  8.26569694e-01, -5.93768909e-01,\n",
       "       -3.77912918e-01, -9.47084429e-03, -5.42250335e-01, -3.87824775e-01,\n",
       "       -1.57015297e-01, -3.38496610e-02, -7.25487545e-01,  4.66025847e-01,\n",
       "        3.79992191e-01, -3.21967606e-01, -4.44746591e-01,  5.44628117e-01,\n",
       "       -5.02928979e-01, -1.15010906e-02, -9.14207404e-01, -1.31539315e+00,\n",
       "       -4.91897822e-01, -4.67362312e-01,  4.57212536e-01,  3.28339323e-02,\n",
       "       -2.80163041e-01, -8.66773812e-01,  2.26942258e-02,  9.83701104e-01,\n",
       "       -3.55878625e-01,  1.41689218e-01, -3.94477635e-01, -4.51130937e-01,\n",
       "       -6.14312575e-01, -4.57378124e-01,  8.47352027e-01, -4.23529208e-01,\n",
       "       -8.56748673e-01,  1.59706634e-01,  3.54536310e-01, -9.96055435e-01,\n",
       "       -8.50692321e-01, -5.21689512e-01, -6.02861062e-01,  9.11674949e-01,\n",
       "       -1.12604197e-01, -1.76202639e-01, -2.52320631e-01, -3.86253773e-02,\n",
       "        1.60354430e-01,  1.03388602e+00, -8.80331768e-01, -6.83602005e-01,\n",
       "       -6.21247523e-01, -8.64791063e-01, -5.52275226e-01, -1.99235419e-01,\n",
       "       -3.32733816e-02, -9.54490506e-01, -6.43166158e-01, -8.41833516e-01,\n",
       "        2.80642416e-01,  2.55194594e-01,  5.09940242e-01, -2.67889451e-01,\n",
       "        6.60419224e-01,  5.18521262e-01,  6.89078683e-01, -5.54337709e-01,\n",
       "       -1.64429605e-01,  3.27661154e-02,  4.54162631e-01, -1.44441882e-01,\n",
       "       -6.91724768e-01, -3.64504567e-02, -8.20596044e-02, -2.49531436e-01,\n",
       "        1.06841883e-01, -8.73794929e-01,  7.78437817e-03,  1.06752882e-01,\n",
       "        9.19394971e-01,  1.61857026e-01, -5.53018747e-01,  1.19578621e+00,\n",
       "        4.74572154e-02,  1.06093723e+00, -3.18596946e-01, -3.23351101e-02,\n",
       "       -1.12154818e+00])"
      ]
     },
     "execution_count": 93,
     "metadata": {},
     "output_type": "execute_result"
    }
   ],
   "source": [
    "feed_forward(new, labels, num_iters=100000)"
   ]
  },
  {
   "cell_type": "code",
   "execution_count": null,
   "metadata": {},
   "outputs": [],
   "source": [
    "new2 = add_neighborhood_feature(data,window_size=6)\n",
    "new3 = add_polynomial_features(new2, degree=3)"
   ]
  },
  {
   "cell_type": "code",
   "execution_count": null,
   "metadata": {},
   "outputs": [
    {
     "name": "stderr",
     "output_type": "stream",
     "text": [
      "/var/folders/s3/7dcm_x3n32s6xdtw73kmq6k40000gn/T/ipykernel_52678/32717976.py:12: RuntimeWarning: overflow encountered in exp\n",
      "  return (1 / (1 + np.exp(-z)))\n"
     ]
    },
    {
     "name": "stdout",
     "output_type": "stream",
     "text": [
      "Average Loss: 7.489711472686093, Accuracy on testing set: 0.783\n"
     ]
    }
   ],
   "source": [
    "weights = feed_forward(new3, labels, num_iters=1000000)"
   ]
  },
  {
   "cell_type": "code",
   "execution_count": null,
   "metadata": {},
   "outputs": [],
   "source": [
    "def accuracy(data, labels, weights):\n",
    "    outs = np.dot(data, weights)\n",
    "    binary = (outs >= 0.5).astype(int)\n",
    "\n",
    "    samples = data.shape[0]\n",
    "    correct = sum(binary == labels[:,0])\n",
    "    return correct/samples\n"
   ]
  }
 ],
 "metadata": {
  "kernelspec": {
   "display_name": "Python 3 (ipykernel)",
   "language": "python",
   "name": "python3"
  },
  "language_info": {
   "codemirror_mode": {
    "name": "ipython",
    "version": 3
   },
   "file_extension": ".py",
   "mimetype": "text/x-python",
   "name": "python",
   "nbconvert_exporter": "python",
   "pygments_lexer": "ipython3",
   "version": "3.11.4"
  }
 },
 "nbformat": 4,
 "nbformat_minor": 4
}
