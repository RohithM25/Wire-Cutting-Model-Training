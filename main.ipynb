{
 "cells": [
  {
   "cell_type": "markdown",
   "metadata": {},
   "source": [
    "### Project 3\n",
    "\n",
    "Refer to the project writeup [here](https://rutgers.app.box.com/s/k5jsawk0jwsprkcha0z2n2tli3pv53l7)\n"
   ]
  },
  {
   "cell_type": "code",
   "execution_count": 128,
   "metadata": {},
   "outputs": [],
   "source": [
    "#first create a sample training image. Then worry about how to classify it\n",
    "#can we use the same training set from task 1 for task 2, provided it's classified correctly\n",
    "import math\n",
    "import numpy as np\n",
    "import matplotlib.pyplot as plt\n",
    "import random\n",
    "from matplotlib.colors import ListedColormap, BoundaryNorm\n",
    "\n",
    "# import xlsxwriter"
   ]
  },
  {
   "cell_type": "code",
   "execution_count": 129,
   "metadata": {},
   "outputs": [
    {
     "data": {
      "text/plain": [
       "(1, 3)"
      ]
     },
     "execution_count": 129,
     "metadata": {},
     "output_type": "execute_result"
    }
   ],
   "source": [
    "class diagram:\n",
    "    def __init__(self, data):\n",
    "        self.data = data #this will be a 20x20 matrix\n",
    "\n",
    "    @classmethod\n",
    "    def createDiagram(cls):\n",
    "        dgrm = cls(np.zeros((20,20), dtype=float))\n",
    "        return dgrm\n",
    "    \n",
    "    def layWires(self):\n",
    "        possibleRows = [i for i in range(self.data.shape[0])] \n",
    "        possibleColumns = [i for i in range(self.data.shape[1])]\n",
    "\n",
    "        colors = [1,2,3,4] #1 is red, 2 is blue, 3 is yellow, 4 is green\n",
    "        layRowFirst = random.randrange(2) #0 indicates false, 1 indicates true\n",
    "        dangerous = 0 #boolean to keep track of whether the diagram is dangerous. #0 means not dangerous, 1 meeans it is dangerous\n",
    "        thirdWireLaid = 0 #this will hold the color of the 3rd wire laid down\n",
    "        for i in range(4):\n",
    "            color = colors.pop(random.randrange(len(colors)))\n",
    "            \n",
    "            #if the wire to be laid is yellow and the red wire is already laid, mark diagram as dangerous\n",
    "            if color == 3 and (1 not in colors): dangerous = 1\n",
    "            \n",
    "            if i==2: thirdWireLaid = color\n",
    "            if i%2 == 0:\n",
    "                if layRowFirst == 1:\n",
    "                    row = possibleRows.pop(random.randrange(len(possibleRows)))\n",
    "                    for j in range(self.data.shape[0]): self.data[row][j] = color\n",
    "                else:\n",
    "                    col = possibleColumns.pop(random.randrange(len(possibleColumns)))\n",
    "                    for j in range(self.data.shape[1]): self.data[j][col] = color\n",
    "            else:\n",
    "                if layRowFirst == 1:\n",
    "                    col = possibleColumns.pop(random.randrange(len(possibleColumns)))\n",
    "                    for j in range(self.data.shape[1]): self.data[j][col] = color\n",
    "                else:\n",
    "                    row = possibleRows.pop(random.randrange(len(possibleRows)))\n",
    "                    for j in range(self.data.shape[0]): self.data[row][j] = color\n",
    "        \n",
    "        return (dangerous,0) if dangerous == 0 else (dangerous,thirdWireLaid)\n",
    "\n",
    "\n",
    "    def showDiagram(self):\n",
    "        colors = ['white', 'red', 'blue', 'yellow','green']\n",
    "        custom_map = ListedColormap(colors)\n",
    "        bounds = [-.1, .5, 1.5, 2.5, 3.5, 4.5]\n",
    "        norm = BoundaryNorm(bounds, custom_map.N)\n",
    "        plt.imshow(self.data, cmap = custom_map, norm=norm)\n",
    "        \n",
    "        #Ensure shows plot with increments of 1\n",
    "        plt.xticks(np.arange(-0.5, self.data.shape[1], 1), labels=[])\n",
    "        plt.yticks(np.arange(-0.5, self.data.shape[0], 1), labels=[])\n",
    "\n",
    "        #Show gridlines \n",
    "        plt.grid(True)\n",
    "\n",
    "        #Show colorbar\n",
    "        plt.colorbar()\n",
    "        plt.show()\n",
    "\n",
    "dgrm = diagram.createDiagram()\n",
    "dgrm.layWires()\n",
    "dgrm.showDiagram()\n"
   ]
  },
  {
   "cell_type": "code",
   "execution_count": 130,
   "metadata": {},
   "outputs": [],
   "source": [
    "data = np.load('1k_data/data.npy')\n",
    "labels = np.load('1k_data/labels.npy')\n",
    "\n",
    "dgrm = diagram(data[0].reshape((20,20)))\n",
    "# dgrm.showDiagram()"
   ]
  },
  {
   "cell_type": "code",
   "execution_count": 131,
   "metadata": {},
   "outputs": [],
   "source": [
    "# np.random.seed(42)\n",
    "def SGD(w, x, y, alpha):\n",
    "    # compute estimated output y'\n",
    "    y_prime = sigmoid(float(np.dot(x,w)))\n",
    "    # compute Loss of y' compared to y where y is the actual/correct output\n",
    "    cur_loss = loss(y, y_prime) + (1e-10 * np.sum(np.abs(w))) # l2 reg can be changed for the model\n",
    "    # SGD with new weights = old weights - alpha (sig(w * x) - y)xi) \n",
    "    w -= alpha * (y_prime - y) * x\n",
    "    return cur_loss\n",
    "\n",
    "def sigmoid(z):\n",
    "    return (1 / (1 + np.exp(-z)))\n",
    "\n",
    "def avg_loss(data, w, labels):\n",
    "    losses = [loss(sigmoid(np.dot(x, w)), y) for x, y in zip(data, labels[:, 0])]\n",
    "    return np.average(losses)\n",
    "\n",
    "def accuracy(data, labels, weights):\n",
    "    outs = np.dot(data, weights)\n",
    "    binary = (outs >= 0.5).astype(int)\n",
    "\n",
    "    samples = data.shape[0]\n",
    "    correct = sum(binary == labels[:,0])\n",
    "    return correct/samples\n",
    "\n",
    "\n",
    "def loss(actual_y, y_prime):\n",
    "    epsilon = 1e-15\n",
    "    return -actual_y * np.log(y_prime+epsilon) - (1-actual_y) * np.log(1-y_prime+epsilon)\n",
    "\n",
    "def add_polynomial_features(X, degree):\n",
    "    \"\"\"Add polynomial features to the input data.\"\"\"\n",
    "    features = [X]\n",
    "    for d in range(2, degree + 1):\n",
    "        features.append(X**d)\n",
    "    return np.column_stack(features)\n"
   ]
  },
  {
   "cell_type": "code",
   "execution_count": 132,
   "metadata": {},
   "outputs": [],
   "source": [
    "def feed_forward(data,labels, num_iters = 10000):\n",
    "    data = np.column_stack([data, np.ones(data.shape[0])]) # Adding in a bias term\n",
    "    samples,features = data.shape\n",
    "    w = np.random.rand(features)*2 - np.ones(shape=features) #[0,1] -> [-100,100]\n",
    "    loss_coords, accuracy_coords = [], []\n",
    "    for i in range(num_iters):\n",
    "        index = np.random.randint(0, 1000)\n",
    "        x = data[index]\n",
    "        y = labels[index][0]\n",
    "        loss = SGD(w, x, y, alpha=0.01)\n",
    "        loss_coords.append(avg_loss(data,w,labels))\n",
    "        accuracy_coords.append(accuracy(data,labels,w))\n",
    "          \n",
    "    print(f'Average Loss: {avg_loss(data,w,labels)}, Accuracy on testing set: {accuracy(data, labels, w)}')\n",
    "    return (loss_coords, accuracy_coords)\n",
    "\n",
    "# _, _ = feed_forward(data,labels)\n",
    "\n"
   ]
  },
  {
   "cell_type": "code",
   "execution_count": 133,
   "metadata": {},
   "outputs": [],
   "source": [
    "# Now let's play around with adding non-linear features from our input space\n",
    "new_inp = add_polynomial_features(data,4)\n",
    "# _, _ = feed_forward(new_inp,labels,num_iters=20000)"
   ]
  },
  {
   "cell_type": "code",
   "execution_count": 134,
   "metadata": {},
   "outputs": [],
   "source": [
    "with_sin = np.column_stack([data,])\n",
    "# _, _ = feed_forward(with_sin,labels,num_iters=20000)"
   ]
  },
  {
   "cell_type": "code",
   "execution_count": 135,
   "metadata": {},
   "outputs": [],
   "source": [
    "def compute_neighborhood_mean(data, window_size):\n",
    "    image = data.reshape((20,20))\n",
    "    padded_image = np.pad(image, pad_width=window_size//2, mode='constant')\n",
    "\n",
    "    neighborhood_means = np.zeros_like(image, dtype=np.float64)\n",
    "\n",
    "    for i in range(image.shape[0]):\n",
    "        for j in range(image.shape[1]):\n",
    "            neighborhood = padded_image[i:i+window_size, j:j+window_size]\n",
    "            neighborhood_means[i, j] = np.mean(neighborhood)\n",
    "\n",
    "    return neighborhood_means\n",
    "\n",
    "def compute_neighborhood_mean2(image, window_size):\n",
    "    image = image.reshape((20,20))\n",
    "    \n",
    "    padded_image = np.pad(image, pad_width=window_size//2, mode='constant')\n",
    "\n",
    "    windowed_view = np.lib.stride_tricks.sliding_window_view(padded_image, (window_size, window_size))\n",
    "\n",
    "    neighborhood_means = np.mean(windowed_view, axis=(-2, -1))\n",
    "\n",
    "    return neighborhood_means\n",
    "\n"
   ]
  },
  {
   "cell_type": "code",
   "execution_count": 136,
   "metadata": {},
   "outputs": [],
   "source": [
    "# %%timeit\n",
    "# means = compute_neighborhood_mean2(data[0], 3)"
   ]
  },
  {
   "cell_type": "code",
   "execution_count": 137,
   "metadata": {},
   "outputs": [],
   "source": [
    "# %%timeit\n",
    "# means1 = compute_neighborhood_mean(data[0],3)"
   ]
  },
  {
   "cell_type": "code",
   "execution_count": 138,
   "metadata": {},
   "outputs": [
    {
     "name": "stdout",
     "output_type": "stream",
     "text": [
      "(1000, 400)\n",
      "(1000, 800)\n"
     ]
    }
   ],
   "source": [
    "def add_neighborhood_feature(data, window_size=3):\n",
    "    new_data = [] # store all the new data points in here\n",
    "    for i in range(data.shape[0]): #i.e for each data point\n",
    "        means = compute_neighborhood_mean2(data[i], window_size)\n",
    "        new_data.append(np.concatenate((data[i], means.flatten())))\n",
    "    return np.array(new_data)\n",
    "\n",
    "print(data.shape)\n",
    "new = add_neighborhood_feature(data)\n",
    "print(new.shape)\n",
    "\n",
    "        "
   ]
  },
  {
   "cell_type": "code",
   "execution_count": 139,
   "metadata": {},
   "outputs": [],
   "source": [
    "# loss_coords, accuracy_coords = feed_forward(new, labels, num_iters=10000)"
   ]
  },
  {
   "cell_type": "code",
   "execution_count": 140,
   "metadata": {},
   "outputs": [],
   "source": [
    "new2 = add_neighborhood_feature(data,window_size=6)\n",
    "new3 = add_polynomial_features(new2, degree=3)"
   ]
  },
  {
   "cell_type": "code",
   "execution_count": 141,
   "metadata": {},
   "outputs": [
    {
     "name": "stderr",
     "output_type": "stream",
     "text": [
      "C:\\Users\\godha\\AppData\\Local\\Temp\\ipykernel_22436\\3104660268.py:12: RuntimeWarning: overflow encountered in exp\n",
      "  return (1 / (1 + np.exp(-z)))\n"
     ]
    },
    {
     "name": "stdout",
     "output_type": "stream",
     "text": [
      "Average Loss: 13.069368070645142, Accuracy on testing set: 0.621\n"
     ]
    },
    {
     "data": {
      "image/png": "[encoded data removed]",
      "text/plain": [
       "<Figure size 640x480 with 1 Axes>"
      ]
     },
     "metadata": {},
     "output_type": "display_data"
    }
   ],
   "source": [
    "loss_coords, accuracy_coords = feed_forward(new3, labels, num_iters=10000)"
   ]
  },
  {
   "cell_type": "code",
   "execution_count": 142,
   "metadata": {},
   "outputs": [],
   "source": [
    "#replace sigmoid w soft max\n",
    "#one hot output \n",
    "#sepearte weights for each category: colors\n",
    "#change to categorical cross entroy"
   ]
  }
 ],
 "metadata": {
  "kernelspec": {
   "display_name": "Python 3 (ipykernel)",
   "language": "python",
   "name": "python3"
  },
  "language_info": {
   "codemirror_mode": {
    "name": "ipython",
    "version": 3
   },
   "file_extension": ".py",
   "mimetype": "text/x-python",
   "name": "python",
   "nbconvert_exporter": "python",
   "pygments_lexer": "ipython3",
   "version": "3.11.4"
  }
 },
 "nbformat": 4,
 "nbformat_minor": 4
}
