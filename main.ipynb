{
 "cells": [
  {
   "cell_type": "markdown",
   "metadata": {},
   "source": [
    "### Project 3\n",
    "\n",
    "Refer to the project writeup [here](https://rutgers.app.box.com/s/k5jsawk0jwsprkcha0z2n2tli3pv53l7)\n"
   ]
  },
  {
   "cell_type": "code",
   "execution_count": 1,
   "metadata": {},
   "outputs": [],
   "source": [
    "#first create a sample training image. Then worry about how to classify it\n",
    "#can we use the same training set from task 1 for task 2, provided it's classified correctly\n",
    "import math\n",
    "import numpy as np\n",
    "import matplotlib.pyplot as plt\n",
    "import random\n",
    "from matplotlib.colors import ListedColormap, BoundaryNorm\n",
    "\n",
    "# import xlsxwriter"
   ]
  },
  {
   "cell_type": "code",
   "execution_count": 2,
   "metadata": {},
   "outputs": [
    {
     "data": {
      "image/png": "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",
      "text/plain": [
       "(1, 3)"
      ]
     },
     "execution_count": 129,
     "metadata": {},
     "output_type": "execute_result"
    }
   ],
   "source": [
    "class diagram:\n",
    "    def __init__(self, data):\n",
    "        self.data = data #this will be a 20x20 matrix\n",
    "\n",
    "    @classmethod\n",
    "    def createDiagram(cls):\n",
    "        dgrm = cls(np.zeros((20,20), dtype=float))\n",
    "        return dgrm\n",
    "    \n",
    "    def layWires(self):\n",
    "        possibleRows = [i for i in range(self.data.shape[0])] \n",
    "        possibleColumns = [i for i in range(self.data.shape[1])]\n",
    "\n",
    "        colors = [1,2,3,4] #1 is red, 2 is blue, 3 is yellow, 4 is green\n",
    "        layRowFirst = random.randrange(2) #0 indicates false, 1 indicates true\n",
    "        dangerous = 0 #boolean to keep track of whether the diagram is dangerous. #0 means not dangerous, 1 meeans it is dangerous\n",
    "        thirdWireLaid = 0 #this will hold the color of the 3rd wire laid down\n",
    "        for i in range(4):\n",
    "            color = colors.pop(random.randrange(len(colors)))\n",
    "            \n",
    "            #if the wire to be laid is yellow and the red wire is already laid, mark diagram as dangerous\n",
    "            if color == 3 and (1 not in colors): dangerous = 1\n",
    "            \n",
    "            if i==2: thirdWireLaid = color\n",
    "            if i%2 == 0:\n",
    "                if layRowFirst == 1:\n",
    "                    row = possibleRows.pop(random.randrange(len(possibleRows)))\n",
    "                    for j in range(self.data.shape[0]): self.data[row][j] = color\n",
    "                else:\n",
    "                    col = possibleColumns.pop(random.randrange(len(possibleColumns)))\n",
    "                    for j in range(self.data.shape[1]): self.data[j][col] = color\n",
    "            else:\n",
    "                if layRowFirst == 1:\n",
    "                    col = possibleColumns.pop(random.randrange(len(possibleColumns)))\n",
    "                    for j in range(self.data.shape[1]): self.data[j][col] = color\n",
    "                else:\n",
    "                    row = possibleRows.pop(random.randrange(len(possibleRows)))\n",
    "                    for j in range(self.data.shape[0]): self.data[row][j] = color\n",
    "        \n",
    "        return (dangerous,0) if dangerous == 0 else (dangerous,thirdWireLaid)\n",
    "\n",
    "\n",
    "    def showDiagram(self):\n",
    "        colors = ['white', 'red', 'blue', 'yellow','green']\n",
    "        custom_map = ListedColormap(colors)\n",
    "        bounds = [-.1, .5, 1.5, 2.5, 3.5, 4.5]\n",
    "        norm = BoundaryNorm(bounds, custom_map.N)\n",
    "        plt.imshow(self.data, cmap = custom_map, norm=norm)\n",
    "        \n",
    "        #Ensure shows plot with increments of 1\n",
    "        plt.xticks(np.arange(-0.5, self.data.shape[1], 1), labels=[])\n",
    "        plt.yticks(np.arange(-0.5, self.data.shape[0], 1), labels=[])\n",
    "\n",
    "        #Show gridlines \n",
    "        plt.grid(True)\n",
    "\n",
    "        #Show colorbar\n",
    "        plt.colorbar()\n",
    "        plt.show()\n",
    "\n",
    "dgrm = diagram.createDiagram()\n",
    "dgrm.layWires()\n",
    "dgrm.showDiagram()\n"
   ]
  },
  {
   "cell_type": "code",
   "execution_count": 3,
   "metadata": {},
   "outputs": [
    {
     "data": {
      "image/png": "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",
      "text/plain": [
       "<Figure size 640x480 with 2 Axes>"
      ]
     },
     "metadata": {},
     "output_type": "display_data"
    }
   ],
   "source": [
    "data = np.load('1k_data/data.npy')\n",
    "labels = np.load('1k_data/labels.npy')\n",
    "\n",
    "dgrm = diagram(data[0].reshape((20,20)))\n",
    "# dgrm.showDiagram()"
   ]
  },
  {
   "cell_type": "code",
   "execution_count": 4,
   "metadata": {},
   "outputs": [],
   "source": [
    "# np.random.seed(42)\n",
    "def SGD(w, x, y, alpha):\n",
    "    # compute estimated output y'\n",
    "    y_prime = sigmoid(float(np.dot(x,w)))\n",
    "    # compute Loss of y' compared to y where y is the actual/correct output\n",
    "    cur_loss = loss(y, y_prime) + (1e-10 * np.sum(np.abs(w))) # l2 reg can be changed for the model\n",
    "    # SGD with new weights = old weights - alpha (sig(w * x) - y)xi) \n",
    "    w -= alpha * (y_prime - y) * x\n",
    "    return cur_loss\n",
    "\n",
    "def sigmoid(z):\n",
    "    return (1 / (1 + np.exp(-z)))\n",
    "\n",
    "def avg_loss(data, w, labels):\n",
    "    losses = [loss(sigmoid(np.dot(x, w)), y) for x, y in zip(data, labels[:, 0])]\n",
    "    return np.average(losses)\n",
    "\n",
    "def accuracy(data, labels, weights):\n",
    "    outs = np.dot(data, weights)\n",
    "    binary = (outs >= 0.5).astype(int)\n",
    "\n",
    "    samples = data.shape[0]\n",
    "    correct = sum(binary == labels[:,0])\n",
    "    return correct/samples\n",
    "\n",
    "\n",
    "def loss(actual_y, y_prime):\n",
    "    epsilon = 1e-15\n",
    "    return -actual_y * np.log(y_prime+epsilon) - (1-actual_y) * np.log(1-y_prime+epsilon)\n",
    "\n",
    "def add_polynomial_features(X, degree):\n",
    "    \"\"\"Add polynomial features to the input data.\"\"\"\n",
    "    features = [X]\n",
    "    for d in range(2, degree + 1):\n",
    "        features.append(X**d)\n",
    "    return np.column_stack(features)\n"
   ]
  },
  {
   "cell_type": "code",
   "execution_count": 5,
   "metadata": {},
   "outputs": [
    {
     "ename": "NameError",
     "evalue": "name 'accuracy' is not defined",
     "output_type": "error",
     "traceback": [
      "\u001b[1;31m---------------------------------------------------------------------------\u001b[0m",
      "\u001b[1;31mNameError\u001b[0m                                 Traceback (most recent call last)",
      "Cell \u001b[1;32mIn[5], line 14\u001b[0m\n\u001b[0;32m     11\u001b[0m     \u001b[38;5;28mprint\u001b[39m(\u001b[38;5;124mf\u001b[39m\u001b[38;5;124m'\u001b[39m\u001b[38;5;124mAverage Loss: \u001b[39m\u001b[38;5;132;01m{\u001b[39;00mavg_loss(data,w,labels)\u001b[38;5;132;01m}\u001b[39;00m\u001b[38;5;124m, Accuracy on testing set: \u001b[39m\u001b[38;5;132;01m{\u001b[39;00maccuracy(data,\u001b[38;5;250m \u001b[39mlabels,\u001b[38;5;250m \u001b[39mw)\u001b[38;5;132;01m}\u001b[39;00m\u001b[38;5;124m'\u001b[39m)\n\u001b[0;32m     12\u001b[0m     \u001b[38;5;28;01mreturn\u001b[39;00m w\n\u001b[1;32m---> 14\u001b[0m feed_forward(data,labels)\n",
      "Cell \u001b[1;32mIn[5], line 11\u001b[0m, in \u001b[0;36mfeed_forward\u001b[1;34m(data, labels, num_iters)\u001b[0m\n\u001b[0;32m      8\u001b[0m     y \u001b[38;5;241m=\u001b[39m labels[index][\u001b[38;5;241m0\u001b[39m]\n\u001b[0;32m      9\u001b[0m     loss \u001b[38;5;241m=\u001b[39m SGD(w, x, y, alpha\u001b[38;5;241m=\u001b[39m\u001b[38;5;241m0.01\u001b[39m)\n\u001b[1;32m---> 11\u001b[0m \u001b[38;5;28mprint\u001b[39m(\u001b[38;5;124mf\u001b[39m\u001b[38;5;124m'\u001b[39m\u001b[38;5;124mAverage Loss: \u001b[39m\u001b[38;5;132;01m{\u001b[39;00mavg_loss(data,w,labels)\u001b[38;5;132;01m}\u001b[39;00m\u001b[38;5;124m, Accuracy on testing set: \u001b[39m\u001b[38;5;132;01m{\u001b[39;00maccuracy(data,\u001b[38;5;250m \u001b[39mlabels,\u001b[38;5;250m \u001b[39mw)\u001b[38;5;132;01m}\u001b[39;00m\u001b[38;5;124m'\u001b[39m)\n\u001b[0;32m     12\u001b[0m \u001b[38;5;28;01mreturn\u001b[39;00m w\n",
      "\u001b[1;31mNameError\u001b[0m: name 'accuracy' is not defined"
     ]
    }
   ],
   "source": [
    "def feed_forward(data,labels, num_iters = 10000):\n",
    "    data = np.column_stack([data, np.ones(data.shape[0])]) # Adding in a bias term\n",
    "    samples,features = data.shape\n",
    "    w = np.random.rand(features)*2 - np.ones(shape=features) #[0,1] -> [-100,100]\n",
    "    loss_coords, accuracy_coords = [], []\n",
    "    for i in range(num_iters):\n",
    "        index = np.random.randint(0, 1000)\n",
    "        x = data[index]\n",
    "        y = labels[index][0]\n",
    "        loss = SGD(w, x, y, alpha=0.01)\n",
    "        loss_coords.append(avg_loss(data,w,labels))\n",
    "        accuracy_coords.append(accuracy(data,labels,w))\n",
    "          \n",
    "    print(f'Average Loss: {avg_loss(data,w,labels)}, Accuracy on testing set: {accuracy(data, labels, w)}')\n",
    "    return (loss_coords, accuracy_coords)\n",
    "\n",
    "# _, _ = feed_forward(data,labels)\n",
    "\n"
   ]
  },
  {
   "cell_type": "code",
   "execution_count": null,
   "metadata": {},
   "outputs": [],
   "source": [
    "# Now let's play around with adding non-linear features from our input space\n",
    "new_inp = add_polynomial_features(data,4)\n",
    "# _, _ = feed_forward(new_inp,labels,num_iters=20000)"
   ]
  },
  {
   "cell_type": "code",
   "execution_count": null,
   "metadata": {},
   "outputs": [],
   "source": [
    "with_sin = np.column_stack([data,])\n",
    "# _, _ = feed_forward(with_sin,labels,num_iters=20000)"
   ]
  },
  {
   "cell_type": "code",
   "execution_count": null,
   "metadata": {},
   "outputs": [],
   "source": [
    "def compute_neighborhood_mean(data, window_size):\n",
    "    image = data.reshape((20,20))\n",
    "    padded_image = np.pad(image, pad_width=window_size//2, mode='constant')\n",
    "\n",
    "    neighborhood_means = np.zeros_like(image, dtype=np.float64)\n",
    "\n",
    "    for i in range(image.shape[0]):\n",
    "        for j in range(image.shape[1]):\n",
    "            neighborhood = padded_image[i:i+window_size, j:j+window_size]\n",
    "            neighborhood_means[i, j] = np.mean(neighborhood)\n",
    "\n",
    "    return neighborhood_means\n",
    "\n",
    "def compute_neighborhood_mean2(image, window_size):\n",
    "    image = image.reshape((20,20))\n",
    "    \n",
    "    padded_image = np.pad(image, pad_width=window_size//2, mode='constant')\n",
    "\n",
    "    windowed_view = np.lib.stride_tricks.sliding_window_view(padded_image, (window_size, window_size))\n",
    "\n",
    "    neighborhood_means = np.mean(windowed_view, axis=(-2, -1))\n",
    "\n",
    "    return neighborhood_means\n",
    "\n"
   ]
  },
  {
   "cell_type": "code",
   "execution_count": null,
   "metadata": {},
   "outputs": [],
   "source": [
    "# %%timeit\n",
    "# means = compute_neighborhood_mean2(data[0], 3)"
   ]
  },
  {
   "cell_type": "code",
<<<<<<< HEAD
   "execution_count": 137,
=======
   "execution_count": null,
   "source": [
    "# means1 = compute_neighborhood_mean(data[0],3)"
   ]
  },
  {
   "cell_type": "code",
<<<<<<< HEAD
   "execution_count": 138,
=======
   "execution_count": null,
>>>>>>> 6f90bf6e560b033e0e20b0bea3ec7ecfe8a9b6f8
   "metadata": {},
   "outputs": [
    {
     "name": "stdout",
     "output_type": "stream",
     "text": [
      "(1000, 400)\n",
      "(1000, 800)\n"
     ]
    }
   ],
   "source": [
    "def add_neighborhood_feature(data, window_size=3):\n",
    "    new_data = [] # store all the new data points in here\n",
    "    for i in range(data.shape[0]): #i.e for each data point\n",
    "        means = compute_neighborhood_mean2(data[i], window_size)\n",
    "        new_data.append(np.concatenate((data[i], means.flatten())))\n",
    "    return np.array(new_data)\n",
    "\n",
    "print(data.shape)\n",
    "new = add_neighborhood_feature(data)\n",
    "print(new.shape)\n",
    "\n",
    "        "
   ]
  },
  {
   "cell_type": "code",
<<<<<<< HEAD
   "execution_count": 139,
=======
   "execution_count": null,
>>>>>>> 6f90bf6e560b033e0e20b0bea3ec7ecfe8a9b6f8
   "metadata": {},
   "outputs": [],
   "source": [
    "# loss_coords, accuracy_coords = feed_forward(new, labels, num_iters=10000)"
   ]
  },
  {
   "cell_type": "code",
<<<<<<< HEAD
   "execution_count": 140,
=======
   "execution_count": null,
>>>>>>> 6f90bf6e560b033e0e20b0bea3ec7ecfe8a9b6f8
   "metadata": {},
   "outputs": [],
   "source": [
    "new2 = add_neighborhood_feature(data,window_size=6)\n",
    "new3 = add_polynomial_features(new2, degree=3)"
   ]
  },
  {
   "cell_type": "code",
<<<<<<< HEAD
   "execution_count": 141,
=======
   "execution_count": null,
>>>>>>> 6f90bf6e560b033e0e20b0bea3ec7ecfe8a9b6f8
   "metadata": {},
   "outputs": [
    {
     "name": "stderr",
     "output_type": "stream",
     "text": [
      "C:\\Users\\godha\\AppData\\Local\\Temp\\ipykernel_22436\\3104660268.py:12: RuntimeWarning: overflow encountered in exp\n",
      "  return (1 / (1 + np.exp(-z)))\n"
     ]
    },
    {
     "name": "stdout",
     "output_type": "stream",
     "text": [
      "Average Loss: 13.069368070645142, Accuracy on testing set: 0.621\n"
     ]
    },
    {
     "data": {
      "image/png": "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",
      "text/plain": [
       "<Figure size 640x480 with 1 Axes>"
      ]
     },
     "metadata": {},
     "output_type": "display_data"
    }
   ],
   "source": [
    "loss_coords, accuracy_coords = feed_forward(new3, labels, num_iters=10000)"
   ]
  },
  {
   "cell_type": "code",
<<<<<<< HEAD
   "execution_count": 142,
=======
   "execution_count": null,
>>>>>>> 6f90bf6e560b033e0e20b0bea3ec7ecfe8a9b6f8
   "metadata": {},
   "outputs": [],
   "source": [
    "#replace sigmoid w soft max\n",
    "#one hot output \n",
    "#sepearte weights for each category: colors\n",
    "#change to categorical cross entroy"
   ]
  }
 ],
 "metadata": {
  "kernelspec": {
   "display_name": "Python 3",
   "language": "python",
   "name": "python3"
  },
  "language_info": {
   "codemirror_mode": {
    "name": "ipython",
    "version": 3
   },
   "file_extension": ".py",
   "mimetype": "text/x-python",
   "name": "python",
   "nbconvert_exporter": "python",
   "pygments_lexer": "ipython3",
<<<<<<< HEAD
   "version": "3.9.6"
  },
  "vscode": {
   "interpreter": {
    "hash": "aee8b7b246df8f9039afb4144a1f6fd8d2ca17a180786b69acc140d282b71a49"
   }
=======
   "version": "3.11.4"
>>>>>>> refs/remotes/origin/main
  }
 },
 "nbformat": 4,
 "nbformat_minor": 4
}
