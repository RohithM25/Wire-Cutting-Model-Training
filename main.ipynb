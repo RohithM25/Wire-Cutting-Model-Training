{
 "cells": [
  {
   "cell_type": "markdown",
   "metadata": {},
   "source": [
    "### Project 3\n",
    "\n",
    "Refer to the project writeup [here](https://rutgers.app.box.com/s/k5jsawk0jwsprkcha0z2n2tli3pv53l7)\n"
   ]
  },
  {
   "cell_type": "code",
   "execution_count": 79,
   "metadata": {},
   "outputs": [],
   "source": [
    "#first create a sample training image. Then worry about how to classify it\n",
    "#can we use the same training set from task 1 for task 2, provided it's classified correctly\n",
    "\n",
    "import numpy as np\n",
    "import matplotlib.pyplot as plt\n",
    "import random\n",
    "from matplotlib.colors import ListedColormap, BoundaryNorm"
   ]
  },
  {
   "cell_type": "code",
   "execution_count": 80,
   "metadata": {},
   "outputs": [],
   "source": [
    "class diagram:\n",
    "    def __init__(self, data):\n",
    "        self.data = data #this will be a 20x20 matrix\n",
    "\n",
    "    @classmethod\n",
    "    def createDiagram(cls):\n",
    "        dgrm = cls(np.zeros((20,20), dtype=float))\n",
    "        return dgrm\n",
    "    \n",
    "    def layWires(self):\n",
    "        possibleRows = [i for i in range(self.data.shape[0])] \n",
    "        possibleColumns = [i for i in range(self.data.shape[1])]\n",
    "\n",
    "        colors = [1,2,3,4] #1 is red, 2 is blue, 3 is yellow, 4 is green\n",
    "        layRowFirst = random.randrange(2) #0 indicates false, 1 indicates true\n",
    "        dangerous = 0 #boolean to keep track of whether the diagram is dangerous. #0 means not dangerous, 1 meeans it is dangerous\n",
    "        thirdWireLaid = 0 #this will hold the color of the 3rd wire laid down\n",
    "        for i in range(4):\n",
    "            color = colors.pop(random.randrange(len(colors)))\n",
    "            \n",
    "            #if the wire to be laid is yellow and the red wire is already laid, mark diagram as dangerous\n",
    "            if color == 3 and (1 not in colors): dangerous = 1\n",
    "            \n",
    "            if i==2: thirdWireLaid = color\n",
    "            if i%2 == 0:\n",
    "                if layRowFirst == 1:\n",
    "                    row = possibleRows.pop(random.randrange(len(possibleRows)))\n",
    "                    for j in range(self.data.shape[0]): self.data[row][j] = color\n",
    "                else:\n",
    "                    col = possibleColumns.pop(random.randrange(len(possibleColumns)))\n",
    "                    for j in range(self.data.shape[1]): self.data[j][col] = color\n",
    "            else:\n",
    "                if layRowFirst == 1:\n",
    "                    col = possibleColumns.pop(random.randrange(len(possibleColumns)))\n",
    "                    for j in range(self.data.shape[1]): self.data[j][col] = color\n",
    "                else:\n",
    "                    row = possibleRows.pop(random.randrange(len(possibleRows)))\n",
    "                    for j in range(self.data.shape[0]): self.data[row][j] = color\n",
    "        \n",
    "        return (dangerous,0) if dangerous == 0 else (dangerous,thirdWireLaid)\n",
    "\n",
    "\n",
    "    def showDiagram(self):\n",
    "        colors = ['white', 'red', 'blue', 'yellow','green']\n",
    "        custom_map = ListedColormap(colors)\n",
    "        bounds = [-.1, .5, 1.5, 2.5, 3.5, 4.5]\n",
    "        norm = BoundaryNorm(bounds, custom_map.N)\n",
    "        plt.imshow(self.data, cmap = custom_map, norm=norm)\n",
    "        \n",
    "        #Ensure shows plot with increments of 1\n",
    "        plt.xticks(np.arange(-0.5, self.data.shape[1], 1), labels=[])\n",
    "        plt.yticks(np.arange(-0.5, self.data.shape[0], 1), labels=[])\n",
    "\n",
    "        #Show gridlines \n",
    "        plt.grid(True)\n",
    "\n",
    "        #Show colorbar\n",
    "        plt.colorbar()\n",
    "        plt.show()"
   ]
  },
  {
   "cell_type": "code",
   "execution_count": 81,
   "metadata": {},
   "outputs": [
    {
     "name": "stdout",
     "output_type": "stream",
     "text": [
      "(1, 4)\n"
     ]
    },
    {
     "data": {
      "image/png": "[encoded data removed]",
      "text/plain": [
       "<Figure size 640x480 with 2 Axes>"
      ]
     },
     "metadata": {},
     "output_type": "display_data"
    }
   ],
   "source": [
    "dgrm = diagram.createDiagram()\n",
    "print(dgrm.layWires())\n",
    "dgrm.showDiagram()"
   ]
  }
 ],
 "metadata": {
  "kernelspec": {
   "display_name": "Python 3 (ipykernel)",
   "language": "python",
   "name": "python3"
  },
  "language_info": {
   "codemirror_mode": {
    "name": "ipython",
    "version": 3
   },
   "file_extension": ".py",
   "mimetype": "text/x-python",
   "name": "python",
   "nbconvert_exporter": "python",
   "pygments_lexer": "ipython3",
   "version": "3.9.6"
  },
  "vscode": {
   "interpreter": {
    "hash": "31f2aee4e71d21fbe5cf8b01ff0e069b9275f58929596ceb00d14d90e3e16cd6"
   }
  }
 },
 "nbformat": 4,
 "nbformat_minor": 4
}
