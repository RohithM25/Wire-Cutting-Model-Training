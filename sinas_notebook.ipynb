{
 "cells": [
  {
   "cell_type": "code",
   "execution_count": 1,
   "metadata": {},
   "outputs": [],
   "source": [
    "from regression import add_neighborhood_feature, avg_loss, SGD, sigmoid\n",
    "import numpy as np\n",
    "import matplotlib.pyplot as plt\n",
    "import random\n",
    "from matplotlib.colors import ListedColormap, BoundaryNorm"
   ]
  },
  {
   "cell_type": "code",
   "execution_count": 2,
   "metadata": {},
   "outputs": [],
   "source": [
    "training_data = np.load('1k_data/data.npy')\n",
    "training_labels = np.load('1k_data/labels.npy')\n",
    "testing_data = np.load('Task1_Testset500/data.npy')\n",
    "testing_labels = np.load('Task1_Testset500/labels.npy')"
   ]
  },
  {
   "cell_type": "code",
   "execution_count": 3,
   "metadata": {},
   "outputs": [],
   "source": [
    "def add_polynomial_features(X, degree):\n",
    "    \"\"\"Add polynomial features to the input data.\"\"\"\n",
    "    features = [X]\n",
    "    for d in range(2, degree + 1):\n",
    "        features.append(X**d)\n",
    "    return np.concatenate(features, axis=1)\n",
    "\n",
    "def feed_forward(data,labels, num_iters = 10000):\n",
    "    # Adding in a bias term\n",
    "    bias = np.ones((data.shape[0], 1))\n",
    "    data = np.concatenate((data, bias), axis=1)\n",
    "    # print(data.shape)\n",
    "    samples,features = data.shape\n",
    "    loss_coords, accuracy_coords = [], []\n",
    "    w = np.random.rand(features)*2 - np.ones(shape=features) #[0,1] -> [-1,1]\n",
    "    for i in range(num_iters):\n",
    "        index = np.random.randint(0, 1000)\n",
    "        x = data[index]\n",
    "        y = labels[index][0]\n",
    "        loss = SGD(w, x, y, alpha=0.01)\n",
    "        if i % 1000 == 0:\n",
    "            loss_coords.append(avg_loss(data,w,labels))\n",
    "            accuracy_coords.append(accuracy(data,labels,w))\n",
    "        \n",
    "    print(f'Average Loss: {avg_loss(data,w,labels)}, Accuracy on testing set: {accuracy(data, labels, w)}')\n",
    "    return (loss_coords, accuracy_coords)\n",
    "\n",
    "def accuracy(data, labels, weights):\n",
    "    # print(data.shape)\n",
    "    outs = sigmoid(np.dot(data, weights))\n",
    "    binary = np.array((outs >= 0.5).astype(int))\n",
    "    samples = data.shape[0]\n",
    "    correct = np.sum(np.equal(binary,labels[:,0]))\n",
    "    return correct/samples"
   ]
  },
  {
   "cell_type": "code",
   "execution_count": 4,
   "metadata": {},
   "outputs": [
    {
     "name": "stdout",
     "output_type": "stream",
     "text": [
      "[[0.00000000e+00 0.00000000e+00 0.00000000e+00 ... 0.00000000e+00\n",
      "  6.24295077e-01 6.24295077e-01]\n",
      " [3.00000000e+00 0.00000000e+00 0.00000000e+00 ... 0.00000000e+00\n",
      "  0.00000000e+00 0.00000000e+00]\n",
      " [0.00000000e+00 0.00000000e+00 0.00000000e+00 ... 3.16049383e+00\n",
      "  3.16049383e+00 6.24295077e-01]\n",
      " ...\n",
      " [0.00000000e+00 0.00000000e+00 0.00000000e+00 ... 2.43865264e-03\n",
      "  0.00000000e+00 0.00000000e+00]\n",
      " [0.00000000e+00 0.00000000e+00 0.00000000e+00 ... 2.43865264e-03\n",
      "  2.43865264e-03 0.00000000e+00]\n",
      " [0.00000000e+00 4.00000000e+00 0.00000000e+00 ... 0.00000000e+00\n",
      "  0.00000000e+00 0.00000000e+00]]\n"
     ]
    }
   ],
   "source": [
    "data = add_neighborhood_feature(training_data)\n",
    "data = add_polynomial_features(data, degree=4)\n",
    "loss_coords, accuracy_coords = feed_forward(data, training_labels, num_iters=500000)\n",
    "fig, axs = plt.subplots(1, 2, figsize=(12, 4))\n",
    "x_vals = list(range(0,500000,1000))\n",
    "axs[0].plot(x_vals, loss_coords, label='Loss', color='green')\n",
    "axs[0].set_xlabel('Iterations')\n",
    "axs[0].set_ylabel('Loss')\n",
    "axs[0].set_title('Loss over Iterations')\n",
    "axs[0].legend()\n",
    "axs[1].plot(x_vals, accuracy_coords, label='Accuracy')\n",
    "axs[1].set_xlabel('Iterations')\n",
    "axs[1].set_ylabel('Accuracy')\n",
    "axs[1].set_title('Accuracy over Iterations')\n",
    "axs[1].legend()\n",
    "plt.tight_layout()\n",
    "plt.show()\n",
    "# update with actual testing data"
   ]
  },
  {
   "cell_type": "code",
   "execution_count": 5,
   "metadata": {},
   "outputs": [],
   "source": [
    "# now we add these same data features to our testing data\n",
    "# tdata = add_neighborhood_feature(testing_data)\n",
    "# tdata = add_polynomial_features(tdata, degree=3)\n",
    "# np.column_stack\n",
    "# tloss = avg_loss(tdata, weights, testing_labels)\n",
    "# tacc = accuracy(tdata, testing_labels, weights)\n",
    "# print(f'testing loss:{tloss}, testing accuracy: {tacc}')"
   ]
  }
 ],
 "metadata": {
  "kernelspec": {
   "display_name": "Python 3 (ipykernel)",
   "language": "python",
   "name": "python3"
  },
  "language_info": {
   "codemirror_mode": {
    "name": "ipython",
    "version": 3
   },
   "file_extension": ".py",
   "mimetype": "text/x-python",
   "name": "python",
   "nbconvert_exporter": "python",
   "pygments_lexer": "ipython3",
   "version": "3.11.4"
  },
  "vscode": {
   "interpreter": {
    "hash": "aee8b7b246df8f9039afb4144a1f6fd8d2ca17a180786b69acc140d282b71a49"
   }
  }
 },
 "nbformat": 4,
 "nbformat_minor": 4
}
