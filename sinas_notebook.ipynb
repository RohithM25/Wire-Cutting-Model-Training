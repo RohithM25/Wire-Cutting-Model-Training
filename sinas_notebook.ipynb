{
 "cells": [
  {
   "cell_type": "code",
   "execution_count": 1,
   "metadata": {},
   "outputs": [],
   "source": [
    "from regression import add_neighborhood_feature, avg_loss, SGD, sigmoid\n",
    "import numpy as np"
   ]
  },
  {
   "cell_type": "code",
   "execution_count": 2,
   "metadata": {},
   "outputs": [],
   "source": [
    "training_data = np.load('1k_data/data.npy')\n",
    "training_labels = np.load('1k_data/labels.npy')\n",
    "testing_data = np.load('Task1_Testset500/data.npy')\n",
    "testing_labels = np.load('Task1_Testset500/labels.npy')"
   ]
  },
  {
   "cell_type": "code",
   "execution_count": 5,
   "metadata": {},
   "outputs": [
    {
     "name": "stderr",
     "output_type": "stream",
     "text": [
      "/var/folders/s3/7dcm_x3n32s6xdtw73kmq6k40000gn/T/ipykernel_89274/706235120.py:9: NumbaDeprecationWarning: \u001b[1mThe 'nopython' keyword argument was not supplied to the 'numba.jit' decorator. The implicit default value for this argument is currently False, but it will be changed to True in Numba 0.59.0. See https://numba.readthedocs.io/en/stable/reference/deprecation.html#deprecation-of-object-mode-fall-back-behaviour-when-using-jit for details.\u001b[0m\n",
      "  def feed_forward(data,labels, num_iters = 10000):\n"
     ]
    }
   ],
   "source": [
    "def add_polynomial_features(X, degree):\n",
    "    \"\"\"Add polynomial features to the input data.\"\"\"\n",
    "    features = [X]\n",
    "    for d in range(2, degree + 1):\n",
    "        features.append(X**d)\n",
    "    return np.concatenate(features, axis=1)\n",
    "\n",
    "def feed_forward(data,labels, num_iters = 10000):\n",
    "    # Adding in a bias term\n",
    "    bias = np.ones((data.shape[0], 1))\n",
    "    data = np.concatenate((data, bias), axis=1)\n",
    "    print(data.shape)\n",
    "    samples,features = data.shape\n",
    "    w = np.random.rand(features)*2 - np.ones(shape=features) #[0,1] -> [-1,1]\n",
    "    for i in range(num_iters):\n",
    "        index = np.random.randint(0, 1000)\n",
    "        x = data[index]\n",
    "        y = labels[index][0]\n",
    "        loss = SGD(w, x, y, alpha=0.01)\n",
    "        \n",
    "    print(f'Average Loss: {avg_loss(data,w,labels)}, Accuracy on testing set: {accuracy(data, labels, w)}')\n",
    "    return w\n",
    "\n",
    "def accuracy(data, labels, weights):\n",
    "    print(data.shape)\n",
    "    outs = sigmoid(np.dot(data, weights))\n",
    "    binary = np.array((outs >= 0.5).astype(int))\n",
    "    samples = data.shape[0]\n",
    "    correct = np.sum(np.equal(binary,labels[:,0]))\n",
    "    return correct/samples"
   ]
  },
  {
   "cell_type": "code",
   "execution_count": 6,
   "metadata": {},
   "outputs": [
    {
     "name": "stderr",
     "output_type": "stream",
     "text": [
      "/var/folders/s3/7dcm_x3n32s6xdtw73kmq6k40000gn/T/ipykernel_89274/706235120.py:8: NumbaWarning: \u001b[1m\n",
      "Compilation is falling back to object mode WITH looplifting enabled because Function \"feed_forward\" failed type inference due to: \u001b[1mUntyped global name 'SGD':\u001b[0m \u001b[1m\u001b[1mCannot determine Numba type of <class 'function'>\u001b[0m\n",
      "\u001b[1m\n",
      "File \"../../../../../../var/folders/s3/7dcm_x3n32s6xdtw73kmq6k40000gn/T/ipykernel_89274/706235120.py\", line 20:\u001b[0m\n",
      "\u001b[1m<source missing, REPL/exec in use?>\u001b[0m\n",
      "\u001b[0m\u001b[0m\n",
      "  @jit\n",
      "/var/folders/s3/7dcm_x3n32s6xdtw73kmq6k40000gn/T/ipykernel_89274/706235120.py:8: NumbaWarning: \u001b[1m\n",
      "Compilation is falling back to object mode WITHOUT looplifting enabled because Function \"feed_forward\" failed type inference due to: \u001b[1m\u001b[1mCannot determine Numba type of <class 'numba.core.dispatcher.LiftedLoop'>\u001b[0m\n",
      "\u001b[1m\n",
      "File \"../../../../../../var/folders/s3/7dcm_x3n32s6xdtw73kmq6k40000gn/T/ipykernel_89274/706235120.py\", line 16:\u001b[0m\n",
      "\u001b[1m<source missing, REPL/exec in use?>\u001b[0m\n",
      "\u001b[0m\u001b[0m\n",
      "  @jit\n",
      "/Library/Frameworks/Python.framework/Versions/3.9/lib/python3.9/site-packages/numba/core/object_mode_passes.py:151: NumbaWarning: \u001b[1mFunction \"feed_forward\" was compiled in object mode without forceobj=True, but has lifted loops.\n",
      "\u001b[1m\n",
      "File \"../../../../../../var/folders/s3/7dcm_x3n32s6xdtw73kmq6k40000gn/T/ipykernel_89274/706235120.py\", line 8:\u001b[0m\n",
      "\u001b[1m<source missing, REPL/exec in use?>\u001b[0m\n",
      "\u001b[0m\n",
      "  warnings.warn(errors.NumbaWarning(warn_msg,\n",
      "/Library/Frameworks/Python.framework/Versions/3.9/lib/python3.9/site-packages/numba/core/object_mode_passes.py:161: NumbaDeprecationWarning: \u001b[1m\n",
      "Fall-back from the nopython compilation path to the object mode compilation path has been detected. This is deprecated behaviour that will be removed in Numba 0.59.0.\n",
      "\n",
      "For more information visit https://numba.readthedocs.io/en/stable/reference/deprecation.html#deprecation-of-object-mode-fall-back-behaviour-when-using-jit\n",
      "\u001b[1m\n",
      "File \"../../../../../../var/folders/s3/7dcm_x3n32s6xdtw73kmq6k40000gn/T/ipykernel_89274/706235120.py\", line 8:\u001b[0m\n",
      "\u001b[1m<source missing, REPL/exec in use?>\u001b[0m\n",
      "\u001b[0m\n",
      "  warnings.warn(errors.NumbaDeprecationWarning(msg,\n",
      "/var/folders/s3/7dcm_x3n32s6xdtw73kmq6k40000gn/T/ipykernel_89274/706235120.py:8: NumbaWarning: \u001b[1m\n",
      "Compilation is falling back to object mode WITHOUT looplifting enabled because Function \"feed_forward\" failed type inference due to: \u001b[1mUntyped global name 'SGD':\u001b[0m \u001b[1m\u001b[1mCannot determine Numba type of <class 'function'>\u001b[0m\n",
      "\u001b[1m\n",
      "File \"../../../../../../var/folders/s3/7dcm_x3n32s6xdtw73kmq6k40000gn/T/ipykernel_89274/706235120.py\", line 20:\u001b[0m\n",
      "\u001b[1m<source missing, REPL/exec in use?>\u001b[0m\n",
      "\u001b[0m\u001b[0m\n",
      "  @jit\n"
     ]
    },
    {
     "name": "stdout",
     "output_type": "stream",
     "text": [
      "(1000, 3201)\n"
     ]
    },
    {
     "name": "stderr",
     "output_type": "stream",
     "text": [
      "/Library/Frameworks/Python.framework/Versions/3.9/lib/python3.9/site-packages/numba/core/object_mode_passes.py:151: NumbaWarning: \u001b[1mFunction \"feed_forward\" was compiled in object mode without forceobj=True.\n",
      "\u001b[1m\n",
      "File \"../../../../../../var/folders/s3/7dcm_x3n32s6xdtw73kmq6k40000gn/T/ipykernel_89274/706235120.py\", line 16:\u001b[0m\n",
      "\u001b[1m<source missing, REPL/exec in use?>\u001b[0m\n",
      "\u001b[0m\n",
      "  warnings.warn(errors.NumbaWarning(warn_msg,\n",
      "/Library/Frameworks/Python.framework/Versions/3.9/lib/python3.9/site-packages/numba/core/object_mode_passes.py:161: NumbaDeprecationWarning: \u001b[1m\n",
      "Fall-back from the nopython compilation path to the object mode compilation path has been detected. This is deprecated behaviour that will be removed in Numba 0.59.0.\n",
      "\n",
      "For more information visit https://numba.readthedocs.io/en/stable/reference/deprecation.html#deprecation-of-object-mode-fall-back-behaviour-when-using-jit\n",
      "\u001b[1m\n",
      "File \"../../../../../../var/folders/s3/7dcm_x3n32s6xdtw73kmq6k40000gn/T/ipykernel_89274/706235120.py\", line 16:\u001b[0m\n",
      "\u001b[1m<source missing, REPL/exec in use?>\u001b[0m\n",
      "\u001b[0m\n",
      "  warnings.warn(errors.NumbaDeprecationWarning(msg,\n",
      "/Users/shazeghi/Documents/Intro_AI/Project_3/AI-Project-3/regression.py:15: RuntimeWarning: overflow encountered in exp\n",
      "  return (1 / (1 + np.exp(-z)))\n"
     ]
    },
    {
     "name": "stdout",
     "output_type": "stream",
     "text": [
      "(1000, 3201)\n",
      "Average Loss: 7.045910382976026, Accuracy on testing set: 0.796\n"
     ]
    }
   ],
   "source": [
    "data = add_neighborhood_feature(training_data)\n",
    "data = add_polynomial_features(data, degree=4)\n",
    "weights = feed_forward(data, training_labels, num_iters=500000)"
   ]
  },
  {
   "cell_type": "code",
   "execution_count": 13,
   "metadata": {},
   "outputs": [
    {
     "ename": "ValueError",
     "evalue": "shapes (2400,) and (2401,) not aligned: 2400 (dim 0) != 2401 (dim 0)",
     "output_type": "error",
     "traceback": [
      "\u001b[0;31m---------------------------------------------------------------------------\u001b[0m",
      "\u001b[0;31mValueError\u001b[0m                                Traceback (most recent call last)",
      "Cell \u001b[0;32mIn[13], line 4\u001b[0m\n\u001b[1;32m      2\u001b[0m tdata \u001b[39m=\u001b[39m add_neighborhood_feature(testing_data)\n\u001b[1;32m      3\u001b[0m tdata \u001b[39m=\u001b[39m add_polynomial_features(tdata, degree\u001b[39m=\u001b[39m\u001b[39m3\u001b[39m)\n\u001b[0;32m----> 4\u001b[0m tloss \u001b[39m=\u001b[39m avg_loss(tdata, weights, testing_labels)\n\u001b[1;32m      5\u001b[0m tacc \u001b[39m=\u001b[39m accuracy(tdata, testing_labels, weights)\n\u001b[1;32m      6\u001b[0m \u001b[39mprint\u001b[39m(\u001b[39mf\u001b[39m\u001b[39m'\u001b[39m\u001b[39mtesting loss:\u001b[39m\u001b[39m{\u001b[39;00mtloss\u001b[39m}\u001b[39;00m\u001b[39m, testing accuracy: \u001b[39m\u001b[39m{\u001b[39;00mtacc\u001b[39m}\u001b[39;00m\u001b[39m'\u001b[39m)\n",
      "File \u001b[0;32m~/Documents/Intro_AI/Project_3/AI-Project-3/regression.py:18\u001b[0m, in \u001b[0;36mavg_loss\u001b[0;34m(data, w, labels)\u001b[0m\n\u001b[1;32m     17\u001b[0m \u001b[39mdef\u001b[39;00m \u001b[39mavg_loss\u001b[39m(data, w, labels):\n\u001b[0;32m---> 18\u001b[0m     losses \u001b[39m=\u001b[39m [loss(sigmoid(np\u001b[39m.\u001b[39mdot(x, w)), y) \u001b[39mfor\u001b[39;00m x, y \u001b[39min\u001b[39;00m \u001b[39mzip\u001b[39m(data, labels[:, \u001b[39m0\u001b[39m])]\n\u001b[1;32m     19\u001b[0m     \u001b[39mreturn\u001b[39;00m np\u001b[39m.\u001b[39maverage(losses)\n",
      "File \u001b[0;32m~/Documents/Intro_AI/Project_3/AI-Project-3/regression.py:18\u001b[0m, in \u001b[0;36m<listcomp>\u001b[0;34m(.0)\u001b[0m\n\u001b[1;32m     17\u001b[0m \u001b[39mdef\u001b[39;00m \u001b[39mavg_loss\u001b[39m(data, w, labels):\n\u001b[0;32m---> 18\u001b[0m     losses \u001b[39m=\u001b[39m [loss(sigmoid(np\u001b[39m.\u001b[39;49mdot(x, w)), y) \u001b[39mfor\u001b[39;00m x, y \u001b[39min\u001b[39;00m \u001b[39mzip\u001b[39m(data, labels[:, \u001b[39m0\u001b[39m])]\n\u001b[1;32m     19\u001b[0m     \u001b[39mreturn\u001b[39;00m np\u001b[39m.\u001b[39maverage(losses)\n",
      "File \u001b[0;32m<__array_function__ internals>:180\u001b[0m, in \u001b[0;36mdot\u001b[0;34m(*args, **kwargs)\u001b[0m\n",
      "\u001b[0;31mValueError\u001b[0m: shapes (2400,) and (2401,) not aligned: 2400 (dim 0) != 2401 (dim 0)"
     ]
    }
   ],
   "source": [
    "# now we add these same data features to our testing data\n",
    "tdata = add_neighborhood_feature(testing_data)\n",
    "tdata = add_polynomial_features(tdata, degree=3)\n",
    "np.column_stack\n",
    "tloss = avg_loss(tdata, weights, testing_labels)\n",
    "tacc = accuracy(tdata, testing_labels, weights)\n",
    "print(f'testing loss:{tloss}, testing accuracy: {tacc}')"
   ]
  }
 ],
 "metadata": {
  "kernelspec": {
   "display_name": "Python 3 (ipykernel)",
   "language": "python",
   "name": "python3"
  },
  "language_info": {
   "codemirror_mode": {
    "name": "ipython",
    "version": 3
   },
   "file_extension": ".py",
   "mimetype": "text/x-python",
   "name": "python",
   "nbconvert_exporter": "python",
   "pygments_lexer": "ipython3",
   "version": "3.9.6"
  },
  "vscode": {
   "interpreter": {
    "hash": "aee8b7b246df8f9039afb4144a1f6fd8d2ca17a180786b69acc140d282b71a49"
   }
  }
 },
 "nbformat": 4,
 "nbformat_minor": 4
}
