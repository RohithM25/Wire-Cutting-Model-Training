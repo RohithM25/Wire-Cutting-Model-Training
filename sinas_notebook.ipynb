{
 "cells": [
  {
   "cell_type": "code",
   "execution_count": 7,
   "metadata": {},
   "outputs": [],
   "source": [
    "from regression2 import GD_Model\n",
    "import numpy as np"
   ]
  },
  {
   "cell_type": "code",
   "execution_count": 8,
   "metadata": {},
   "outputs": [],
   "source": [
    "training_data = np.load('5k_data/data.npy')\n",
    "training_labels = np.load('5k_data/labels.npy')\n",
    "testing_data = np.load('Task1_Testset1000/data.npy')\n",
    "testing_labels = np.load('Task1_Testset1000/labels.npy')"
   ]
  },
  {
   "cell_type": "code",
   "execution_count": 18,
   "metadata": {},
   "outputs": [
    {
     "name": "stdout",
     "output_type": "stream",
     "text": [
      "Current loss: 0.6716617260942044, Current accuracy: 0.66\n",
      "Training final loss: 1.1954980707432465, Training final accuracy: 0.879\n",
      "test loss: 0.9269017932976961, test accuracy: 0.87\n"
     ]
    }
   ],
   "source": [
    "def fn(x1,x2):\n",
    "    val = np.ones_like(x1)+2*x1-3*x2\n",
    "    return np.array([1 if v >=0 else 0 for v in val])\n",
    "\n",
    "\n",
    "# Debugging test\n",
    "dumb_data = np.random.rand(1000, 2) # Dummy data\n",
    "dumb_labels = fn(dumb_data[:,0], dumb_data[:,1])\n",
    "\n",
    "regr = GD_Model(dumb_data, np.ones((dumb_data.shape[1],1)),dumb_labels)\n",
    "print(f'Current loss: {regr.LCE(f=regr(), y=regr.labels)}, Current accuracy: {regr.accuracy()}')\n",
    "regr.train(3000)\n",
    "\n",
    "\n",
    "tdata = np.random.rand(500, 2) # Dummy data\n",
    "tlabels = fn(tdata[:,0], tdata[:,1])\n",
    "\n",
    "regr.data = tdata\n",
    "regr.labels = tlabels\n",
    "print(f'test loss: {regr.LCE(f=regr(), y=regr.labels)}, test accuracy: {regr.accuracy()}')\n"
   ]
  },
  {
   "attachments": {},
   "cell_type": "markdown",
   "metadata": {},
   "source": [
    "### Sanity Check Passed\n",
    "Our model can fit reasonably well to simple linear data which suggests our implementation is correct"
   ]
  }
 ],
 "metadata": {
  "kernelspec": {
   "display_name": "Python 3 (ipykernel)",
   "language": "python",
   "name": "python3"
  },
  "language_info": {
   "codemirror_mode": {
    "name": "ipython",
    "version": 3
   },
   "file_extension": ".py",
   "mimetype": "text/x-python",
   "name": "python",
   "nbconvert_exporter": "python",
   "pygments_lexer": "ipython3",
   "version": "3.9.6"
  },
  "vscode": {
   "interpreter": {
    "hash": "aee8b7b246df8f9039afb4144a1f6fd8d2ca17a180786b69acc140d282b71a49"
   }
  }
 },
 "nbformat": 4,
 "nbformat_minor": 4
}
