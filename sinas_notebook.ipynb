{
 "cells": [
  {
   "cell_type": "code",
   "execution_count": 15,
   "metadata": {},
   "outputs": [],
   "source": [
    "from regression2 import GD_Model\n",
    "import numpy as np"
   ]
  },
  {
   "cell_type": "code",
   "execution_count": 16,
   "metadata": {},
   "outputs": [],
   "source": [
    "training_data = np.load('5k_data/data.npy')\n",
    "training_labels = np.load('5k_data/labels.npy')\n",
    "testing_data = np.load('Task1_Testset500/data.npy')\n",
    "testing_labels = np.load('Task1_Testset500/labels.npy')"
   ]
  },
  {
   "cell_type": "code",
   "execution_count": 17,
   "metadata": {},
   "outputs": [],
   "source": [
    "def fn(x1,x2):\n",
    "    val = np.ones_like(x1)+2*x1-3*x2\n",
    "    return np.array([1 if v >=0 else 0 for v in val])\n",
    "\n",
    "\n",
    "# Debugging test\n",
    "dumb_data = np.random.rand(1000, 2) # Dummy data\n",
    "dumb_labels = fn(dumb_data[:,0], dumb_data[:,1])\n",
    "\n",
    "regr = GD_Model(dumb_data, np.ones((dumb_data.shape[1],1)),dumb_labels)\n",
    "print(f'Current loss: {regr.LCE(f=regr(), y=regr.labels)}, Current accuracy: {regr.accuracy()}')\n",
    "regr.train(3000)\n",
    "\n",
    "\n",
    "tdata = np.random.rand(500, 2) # Dummy data\n",
    "tlabels = fn(tdata[:,0], tdata[:,1])\n",
    "\n",
    "regr.data = tdata\n",
    "regr.labels = tlabels\n",
    "print(f'test loss: {regr.LCE(f=regr(), y=regr.labels)}, test accuracy: {regr.accuracy()}')\n"
   ]
  },
  {
   "attachments": {},
   "cell_type": "markdown",
   "metadata": {},
   "source": [
    "### Sanity Check Passed\n",
    "Our model can fit reasonably well to simple linear data which suggests our implementation is correct"
   ]
<<<<<<< HEAD
=======
  },
  {
   "cell_type": "code",
   "execution_count": 18,
   "metadata": {},
   "outputs": [
    {
     "ename": "ValueError",
     "evalue": "non-broadcastable output operand with shape (400,1) doesn't match the broadcast shape (5000,400,2)",
     "output_type": "error",
     "traceback": [
      "\u001b[1;31m---------------------------------------------------------------------------\u001b[0m",
      "\u001b[1;31mValueError\u001b[0m                                Traceback (most recent call last)",
      "Cell \u001b[1;32mIn[18], line 12\u001b[0m\n\u001b[0;32m     10\u001b[0m regression \u001b[38;5;241m=\u001b[39m GD_Model(data, np\u001b[38;5;241m.\u001b[39mones((data\u001b[38;5;241m.\u001b[39mshape[\u001b[38;5;241m1\u001b[39m],\u001b[38;5;241m1\u001b[39m)),labels)\n\u001b[0;32m     11\u001b[0m \u001b[38;5;66;03m# print(f'Current loss: {regression.LCE(f=regression(), y=regression.labels)}, Current accuracy: {regression.accuracy()}')\u001b[39;00m\n\u001b[1;32m---> 12\u001b[0m regression\u001b[38;5;241m.\u001b[39mtrain(\u001b[38;5;241m3000\u001b[39m)\n\u001b[0;32m     14\u001b[0m test_data \u001b[38;5;241m=\u001b[39m testing_data\n\u001b[0;32m     15\u001b[0m test_labels \u001b[38;5;241m=\u001b[39m testing_labels\n",
      "File \u001b[1;32mc:\\Users\\godha\\OneDrive\\Desktop\\IntroAI\\AI-Project-3\\AI-Project-3\\regression2.py:63\u001b[0m, in \u001b[0;36mGD_Model.train\u001b[1;34m(self, iters, lr, batch, reset_weights, reg_lambda)\u001b[0m\n\u001b[0;32m     59\u001b[0m     loss \u001b[38;5;241m+\u001b[39m\u001b[38;5;241m=\u001b[39m reg_lambda \u001b[38;5;241m*\u001b[39m \u001b[38;5;241m0.5\u001b[39m \u001b[38;5;241m*\u001b[39m np\u001b[38;5;241m.\u001b[39msum(\u001b[38;5;28mself\u001b[39m\u001b[38;5;241m.\u001b[39mw \u001b[38;5;241m*\u001b[39m\u001b[38;5;241m*\u001b[39m \u001b[38;5;241m2\u001b[39m)\n\u001b[0;32m     61\u001b[0m     grad \u001b[38;5;241m=\u001b[39m np\u001b[38;5;241m.\u001b[39mmatmul(data\u001b[38;5;241m.\u001b[39mT, pred\u001b[38;5;241m-\u001b[39mlabels[:,np\u001b[38;5;241m.\u001b[39mnewaxis]) \u001b[38;5;241m+\u001b[39m reg_lambda \u001b[38;5;241m*\u001b[39m \u001b[38;5;28mself\u001b[39m\u001b[38;5;241m.\u001b[39mw\n\u001b[1;32m---> 63\u001b[0m     \u001b[38;5;28mself\u001b[39m\u001b[38;5;241m.\u001b[39mw \u001b[38;5;241m-\u001b[39m\u001b[38;5;241m=\u001b[39m lr\u001b[38;5;241m*\u001b[39m(\u001b[38;5;241m1\u001b[39m\u001b[38;5;241m/\u001b[39mbatch)\u001b[38;5;241m*\u001b[39mgrad\n\u001b[0;32m     64\u001b[0m \u001b[38;5;28mprint\u001b[39m(\u001b[38;5;124mf\u001b[39m\u001b[38;5;124m\"\u001b[39m\u001b[38;5;124mTraining final loss: \u001b[39m\u001b[38;5;132;01m{\u001b[39;00mloss\u001b[38;5;132;01m}\u001b[39;00m\u001b[38;5;124m, Training final accuracy: \u001b[39m\u001b[38;5;132;01m{\u001b[39;00m\u001b[38;5;28mself\u001b[39m\u001b[38;5;241m.\u001b[39maccuracy()\u001b[38;5;132;01m}\u001b[39;00m\u001b[38;5;124m\"\u001b[39m)\n",
      "\u001b[1;31mValueError\u001b[0m: non-broadcastable output operand with shape (400,1) doesn't match the broadcast shape (5000,400,2)"
     ]
    }
   ],
   "source": [
    "# Let's try linearly solving logistic regression for task 1\n",
    "\n",
    "# def fn(x1,x2):\n",
    "#     val = np.ones_like(x1)+2*x1-3*x2\n",
    "#     return np.array([1 if v >=0 else 0 for v in val])\n",
    "\n",
    "# data = training_data\n",
    "# labels = training_labels\n",
    "\n",
    "# regression = GD_Model(data, np.ones((data.shape[1],1)),labels)\n",
    "# print(f'Current loss: {regression.LCE(f=regression(), y=regression.labels)}, Current accuracy: {regression.accuracy()}')\n",
    "# regression.train(3000)\n",
    "\n",
    "# test_data = testing_data\n",
    "# test_labels = testing_labels\n",
    "\n",
    "# regression.data = test_data\n",
    "# regression.labels = test_labels\n",
    "# print(f'test loss: {regression.LCE(f=regression(), y=regression.labels)}, test accuracy: {regression.accuracy()}')"
   ]
>>>>>>> refs/remotes/origin/main
  }
 ],
 "metadata": {
  "kernelspec": {
   "display_name": "Python 3 (ipykernel)",
   "language": "python",
   "name": "python3"
  },
  "language_info": {
   "codemirror_mode": {
    "name": "ipython",
    "version": 3
   },
   "file_extension": ".py",
   "mimetype": "text/x-python",
   "name": "python",
   "nbconvert_exporter": "python",
   "pygments_lexer": "ipython3",
   "version": "3.11.4"
  },
  "vscode": {
   "interpreter": {
    "hash": "aee8b7b246df8f9039afb4144a1f6fd8d2ca17a180786b69acc140d282b71a49"
   }
  }
 },
 "nbformat": 4,
 "nbformat_minor": 4
}
